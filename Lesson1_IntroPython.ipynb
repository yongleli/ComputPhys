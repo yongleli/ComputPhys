{
 "cells": [
  {
   "cell_type": "markdown",
   "metadata": {
    "slideshow": {
     "slide_type": "slide"
    }
   },
   "source": [
    "# Lesson 1: First glance at Jupyter.\n",
    "## Second level of title: Markdown grammar.\n",
    "### Third level of title.\n",
    "\n",
    "* First, enter ESC, then inter m, the cell is changed to markdown.\n",
    "* Then, one can take notes.\n",
    "* One can even input formula e.g. $e^{i\\boldsymbol{k}\\cdot\\boldsymbol{r}}$.\n",
    "\n",
    "$\\int e^{i\\hat{H}t/\\hbar} \\, {\\rm{d}} x$\n",
    "\n",
    "$$\\begin{aligned} \\int D(x) e^{iS} \\end{aligned}$$\n",
    "\n"
   ]
  },
  {
   "cell_type": "markdown",
   "metadata": {},
   "source": [
    "## Example"
   ]
  },
  {
   "cell_type": "markdown",
   "metadata": {},
   "source": [
    "$\\hat{L} \\rho = [H, \\rho]$\n"
   ]
  },
  {
   "cell_type": "markdown",
   "metadata": {},
   "source": [
    "# \"*In mathematics, you never understand things; you just get used to them.*\" --John von Neumann"
   ]
  },
  {
   "cell_type": "code",
   "execution_count": 4,
   "metadata": {
    "slideshow": {
     "slide_type": "slide"
    }
   },
   "outputs": [
    {
     "name": "stdout",
     "output_type": "stream",
     "text": [
      "Hello world!\n",
      "Hello again!\n",
      "Who am I\n",
      "Version of Python\n"
     ]
    }
   ],
   "source": [
    "print(\"Hello world!\")\n",
    "print(\"Hello again!\")\n",
    "print(\"Who am I\")\n",
    "print(\"Version of Python\")\n"
   ]
  },
  {
   "cell_type": "markdown",
   "metadata": {
    "collapsed": true
   },
   "source": [
    "# Markdown cheat sheet:\n",
    "\n",
    "https://github.com/adam-p/markdown-here/wiki/Markdown-Cheatsheet\n"
   ]
  },
  {
   "cell_type": "markdown",
   "metadata": {
    "collapsed": true
   },
   "source": [
    "# Mastering Markdown:\n",
    "\n",
    "https://guides.github.com/features/mastering-markdown/\n"
   ]
  },
  {
   "cell_type": "markdown",
   "metadata": {
    "slideshow": {
     "slide_type": "slide"
    }
   },
   "source": [
    "## Basic usage of Python Jupyter：\n",
    "\n",
    "1. Normal：Input mode。\n",
    "2. Esc: Command-line mode。\n",
    "3. Esc+y: coding mode。\n",
    "4. Esc+m: Markdown mode。\n",
    "5. Esc+l: Line number。\n",
    "6. Shift+Enter: Run!\n",
    "7. Esc+b: Start a new cell bellow。\n",
    "8. Esc+a: Start a new cell above。"
   ]
  },
  {
   "cell_type": "markdown",
   "metadata": {},
   "source": [
    "## Two modes：\n",
    "\n",
    "Command mode and Edit mode. In a cell，press Enter, one can get into the *Edit* mode. If press Esc, one can get into the *Command* mode."
   ]
  },
  {
   "cell_type": "code",
   "execution_count": null,
   "metadata": {},
   "outputs": [],
   "source": []
  },
  {
   "cell_type": "markdown",
   "metadata": {},
   "source": [
    "## Run current cell，and then move to the next Cell\n",
    "\n",
    "在一个cell中（在command模式下）,  Shift + Enter  "
   ]
  },
  {
   "cell_type": "code",
   "execution_count": null,
   "metadata": {},
   "outputs": [],
   "source": []
  },
  {
   "cell_type": "markdown",
   "metadata": {},
   "source": [
    "## Create a Cell\n",
    "\n",
    "Within a cell（in command mode）\n",
    "1. Press a, a new cell appears above；\n",
    "2. Press b, a new cell appears bellow;"
   ]
  },
  {
   "cell_type": "code",
   "execution_count": null,
   "metadata": {},
   "outputs": [],
   "source": []
  },
  {
   "cell_type": "markdown",
   "metadata": {},
   "source": [
    "## Code/Markdown mode switching\n",
    "\n",
    "Within a cell (in command mode)\n",
    "1. Press y, Code mode;\n",
    "2. Press m, Markdown mode;"
   ]
  },
  {
   "cell_type": "markdown",
   "metadata": {},
   "source": [
    "## Delete a Cell\n",
    "\n",
    "Within a cell（in command mode）, press d twice \n",
    "**DANGER**! \n"
   ]
  },
  {
   "cell_type": "markdown",
   "metadata": {},
   "source": [
    "## Save current Notebook\n",
    "\n",
    "Within a cell (in command mode), press s.\n"
   ]
  },
  {
   "cell_type": "markdown",
   "metadata": {},
   "source": [
    "## Start a command panel (not useful in Mac)\n",
    "\n",
    "Within a cell (in command mode), Press: \n",
    "```Python\n",
    "Ctrl + Shift + P \n",
    "```\n",
    "\n",
    "\n"
   ]
  },
  {
   "cell_type": "markdown",
   "metadata": {},
   "source": [
    "# A table: \n",
    "\n",
    "Alice|Bob|Charlie\n",
    "--|:--:|--:\n",
    "B|A|C\n",
    "C|B|A\n",
    "A|C|B"
   ]
  },
  {
   "cell_type": "code",
   "execution_count": 6,
   "metadata": {},
   "outputs": [
    {
     "data": {
      "text/plain": [
       "6912"
      ]
     },
     "execution_count": 6,
     "metadata": {},
     "output_type": "execute_result"
    }
   ],
   "source": [
    "1234+5678"
   ]
  },
  {
   "cell_type": "code",
   "execution_count": 7,
   "metadata": {},
   "outputs": [
    {
     "data": {
      "text/plain": [
       "7006652"
      ]
     },
     "execution_count": 7,
     "metadata": {},
     "output_type": "execute_result"
    }
   ],
   "source": [
    "1234*5678"
   ]
  },
  {
   "cell_type": "code",
   "execution_count": 8,
   "metadata": {},
   "outputs": [
    {
     "data": {
      "text/plain": [
       "0.2173300457907714"
      ]
     },
     "execution_count": 8,
     "metadata": {},
     "output_type": "execute_result"
    }
   ],
   "source": [
    "1234/5678"
   ]
  },
  {
   "cell_type": "code",
   "execution_count": 10,
   "metadata": {},
   "outputs": [
    {
     "name": "stdout",
     "output_type": "stream",
     "text": [
      "    5.600000\n",
      "\n"
     ]
    }
   ],
   "source": [
    "print(\"%12.6f\\n\" % 5.6)"
   ]
  },
  {
   "cell_type": "code",
   "execution_count": 12,
   "metadata": {},
   "outputs": [
    {
     "name": "stdout",
     "output_type": "stream",
     "text": [
      "a: [1. 1. 1.]\n",
      "i:  0\n",
      "i:  1\n",
      "i:  2\n",
      "    1.000000    1.000000    1.000000\n"
     ]
    }
   ],
   "source": [
    "import numpy as np\n",
    "\n",
    "a = np.ones(3)\n",
    "print(\"a:\",a)\n",
    "s = ''\n",
    "for i in range(len(a)):\n",
    "    print(\"i: \",i)\n",
    "    s += '{:12.6f}'.format(a[i])\n",
    "print(s)"
   ]
  },
  {
   "cell_type": "code",
   "execution_count": 13,
   "metadata": {},
   "outputs": [
    {
     "name": "stdout",
     "output_type": "stream",
     "text": [
      "1.17.4\n"
     ]
    }
   ],
   "source": [
    "print(np.__version__)"
   ]
  },
  {
   "cell_type": "code",
   "execution_count": 14,
   "metadata": {},
   "outputs": [
    {
     "data": {
      "text/plain": [
       "0.2173300457907714"
      ]
     },
     "execution_count": 14,
     "metadata": {},
     "output_type": "execute_result"
    }
   ],
   "source": [
    "1234/5678"
   ]
  },
  {
   "cell_type": "code",
   "execution_count": 15,
   "metadata": {},
   "outputs": [
    {
     "data": {
      "text/plain": [
       "0"
      ]
     },
     "execution_count": 15,
     "metadata": {},
     "output_type": "execute_result"
    }
   ],
   "source": [
    "int(int(1234)/int(5678))"
   ]
  },
  {
   "cell_type": "code",
   "execution_count": 20,
   "metadata": {},
   "outputs": [
    {
     "data": {
      "text/plain": [
       "1"
      ]
     },
     "execution_count": 20,
     "metadata": {},
     "output_type": "execute_result"
    }
   ],
   "source": [
    "int(np.ceil(int(1234)/int(5678)))"
   ]
  },
  {
   "cell_type": "code",
   "execution_count": 21,
   "metadata": {},
   "outputs": [
    {
     "data": {
      "text/plain": [
       "0"
      ]
     },
     "execution_count": 21,
     "metadata": {},
     "output_type": "execute_result"
    }
   ],
   "source": [
    "int(np.floor(3/4))"
   ]
  },
  {
   "cell_type": "code",
   "execution_count": 27,
   "metadata": {},
   "outputs": [
    {
     "name": "stdout",
     "output_type": "stream",
     "text": [
      "[ 1.   1.1  1.2  1.3  1.4  1.5  1.6  1.7  1.8  1.9  2.   2.1  2.2  2.3\n",
      "  2.4  2.5  2.6  2.7  2.8  2.9  3.   3.1  3.2  3.3  3.4  3.5  3.6  3.7\n",
      "  3.8  3.9  4.   4.1  4.2  4.3  4.4  4.5  4.6  4.7  4.8  4.9  5.   5.1\n",
      "  5.2  5.3  5.4  5.5  5.6  5.7  5.8  5.9  6.   6.1  6.2  6.3  6.4  6.5\n",
      "  6.6  6.7  6.8  6.9  7.   7.1  7.2  7.3  7.4  7.5  7.6  7.7  7.8  7.9\n",
      "  8.   8.1  8.2  8.3  8.4  8.5  8.6  8.7  8.8  8.9  9.   9.1  9.2  9.3\n",
      "  9.4  9.5  9.6  9.7  9.8  9.9 10. ]\n",
      "91\n"
     ]
    }
   ],
   "source": [
    "import numpy as np\n",
    "a = np.linspace(1,10,91)\n",
    "print (a)\n",
    "print(len(a))"
   ]
  },
  {
   "cell_type": "code",
   "execution_count": 26,
   "metadata": {},
   "outputs": [
    {
     "name": "stdout",
     "output_type": "stream",
     "text": [
      "[ 1.   1.1  1.2  1.3  1.4  1.5  1.6  1.7  1.8  1.9  2.   2.1  2.2  2.3\n",
      "  2.4  2.5  2.6  2.7  2.8  2.9  3.   3.1  3.2  3.3  3.4  3.5  3.6  3.7\n",
      "  3.8  3.9  4.   4.1  4.2  4.3  4.4  4.5  4.6  4.7  4.8  4.9  5.   5.1\n",
      "  5.2  5.3  5.4  5.5  5.6  5.7  5.8  5.9  6.   6.1  6.2  6.3  6.4  6.5\n",
      "  6.6  6.7  6.8  6.9  7.   7.1  7.2  7.3  7.4  7.5  7.6  7.7  7.8  7.9\n",
      "  8.   8.1  8.2  8.3  8.4  8.5  8.6  8.7  8.8  8.9  9.   9.1  9.2  9.3\n",
      "  9.4  9.5  9.6  9.7  9.8  9.9 10. ]\n",
      "91\n"
     ]
    }
   ],
   "source": [
    "b = np.arange(1,10+0.1,0.1)\n",
    "#b = np.arange(1,10,0.1)\n",
    "print(b)\n",
    "print(len(b)) ## len: length of an array."
   ]
  },
  {
   "cell_type": "code",
   "execution_count": 29,
   "metadata": {},
   "outputs": [
    {
     "name": "stdout",
     "output_type": "stream",
     "text": [
      "<class 'list'>\n"
     ]
    }
   ],
   "source": [
    "x = [1.0,2.0,3.0]\n",
    "print(type(x))"
   ]
  },
  {
   "cell_type": "code",
   "execution_count": 31,
   "metadata": {},
   "outputs": [
    {
     "name": "stdout",
     "output_type": "stream",
     "text": [
      "[1.0, 2.0, 3.0]\n"
     ]
    }
   ],
   "source": [
    "print(x)"
   ]
  },
  {
   "cell_type": "code",
   "execution_count": 30,
   "metadata": {},
   "outputs": [
    {
     "name": "stdout",
     "output_type": "stream",
     "text": [
      "[ 1.   1.1  1.2  1.3  1.4  1.5  1.6  1.7  1.8  1.9  2.   2.1  2.2  2.3\n",
      "  2.4  2.5  2.6  2.7  2.8  2.9  3.   3.1  3.2  3.3  3.4  3.5  3.6  3.7\n",
      "  3.8  3.9  4.   4.1  4.2  4.3  4.4  4.5  4.6  4.7  4.8  4.9  5.   5.1\n",
      "  5.2  5.3  5.4  5.5  5.6  5.7  5.8  5.9  6.   6.1  6.2  6.3  6.4  6.5\n",
      "  6.6  6.7  6.8  6.9  7.   7.1  7.2  7.3  7.4  7.5  7.6  7.7  7.8  7.9\n",
      "  8.   8.1  8.2  8.3  8.4  8.5  8.6  8.7  8.8  8.9  9.   9.1  9.2  9.3\n",
      "  9.4  9.5  9.6  9.7  9.8  9.9 10. ]\n"
     ]
    }
   ],
   "source": [
    "print(a)"
   ]
  },
  {
   "cell_type": "code",
   "execution_count": 32,
   "metadata": {},
   "outputs": [
    {
     "name": "stdout",
     "output_type": "stream",
     "text": [
      "<class 'numpy.ndarray'>\n",
      "<class 'numpy.ndarray'>\n",
      "(91,)\n",
      "<class 'numpy.matrix'>\n",
      "(1, 91)\n"
     ]
    }
   ],
   "source": [
    "print(type(a))\n",
    "print(type(b))\n",
    "print(np.shape(a))\n",
    "c=np.matrix(a,dtype=float)\n",
    "print(type(c))\n",
    "print(np.shape(c))"
   ]
  },
  {
   "cell_type": "code",
   "execution_count": 33,
   "metadata": {},
   "outputs": [
    {
     "name": "stdout",
     "output_type": "stream",
     "text": [
      "1.0\n"
     ]
    }
   ],
   "source": [
    "print(c[0,0])"
   ]
  },
  {
   "cell_type": "markdown",
   "metadata": {},
   "source": [
    "```bash\n",
    "conda install keras \n",
    "```"
   ]
  },
  {
   "cell_type": "markdown",
   "metadata": {},
   "source": [
    "# Python for windows: Anaconda \n",
    "## Anaconda: \n",
    "## https://www.anaconda.com\n",
    "## ![conda](https://binstar-static-prod.s3.amazonaws.com/latest/img/AnacondaCloud_logo_V_green.png)"
   ]
  },
  {
   "cell_type": "markdown",
   "metadata": {},
   "source": [
    "# Modules: \n",
    "## Jupyter: conda install jupyter\n",
    "## Matplotlib\n",
    "## numpy\n",
    "## pandas\n",
    "## numba\n",
    "## SciPy"
   ]
  },
  {
   "cell_type": "markdown",
   "metadata": {},
   "source": [
    "Pearl"
   ]
  },
  {
   "cell_type": "code",
   "execution_count": 4,
   "metadata": {},
   "outputs": [
    {
     "name": "stdout",
     "output_type": "stream",
     "text": [
      "1.41421356237\n",
      "1.41421356237\n"
     ]
    }
   ],
   "source": [
    "import math\n",
    "print math.sqrt(2)\n",
    "print np.sqrt(2)"
   ]
  },
  {
   "cell_type": "code",
   "execution_count": null,
   "metadata": {},
   "outputs": [],
   "source": [
    "from math import sqrt\n",
    "sqrt(3)"
   ]
  },
  {
   "cell_type": "markdown",
   "metadata": {},
   "source": [
    "## Variables in Python：\n",
    "\n",
    "* Initiate of a character or '_'，followed by character、number、'_'。**DONOT INITIATE AS NUMBER!。\n",
    "* Case sensive！Donot add blank.\n",
    "* Format: \n",
    "```Python\n",
    "< Name > = < value >\n",
    "```\n",
    "* Continue sign: \\\n"
   ]
  },
  {
   "cell_type": "code",
   "execution_count": 35,
   "metadata": {},
   "outputs": [],
   "source": [
    "_30 = 30"
   ]
  },
  {
   "cell_type": "code",
   "execution_count": 36,
   "metadata": {},
   "outputs": [
    {
     "name": "stdout",
     "output_type": "stream",
     "text": [
      "2\n",
      "b:  2\n",
      "c:  4\n",
      "4418491840\n",
      "4418491840\n",
      "4418491904\n",
      "4418491840\n"
     ]
    }
   ],
   "source": [
    "a = 2\n",
    "print (a)\n",
    "\n",
    "b = a\n",
    "\n",
    "c = a + \\\n",
    "b\n",
    "\n",
    "print(\"b: \", b)\n",
    "print(\"c: \", c)\n",
    "print(id(a))\n",
    "print(id(b))\n",
    "print(id(c))\n",
    "b = 2\n",
    "print(id(b))"
   ]
  },
  {
   "cell_type": "code",
   "execution_count": 21,
   "metadata": {},
   "outputs": [
    {
     "name": "stdout",
     "output_type": "stream",
     "text": [
      "4548298176\n",
      "4548298176\n"
     ]
    }
   ],
   "source": [
    "d= a\n",
    "print(id(d))\n",
    "e = b\n",
    "print(id(e))\n"
   ]
  },
  {
   "cell_type": "code",
   "execution_count": 23,
   "metadata": {},
   "outputs": [
    {
     "name": "stdout",
     "output_type": "stream",
     "text": [
      "3 2 2 2\n",
      "4548298208 4548298176 4548298176 4548298176\n"
     ]
    }
   ],
   "source": [
    "a = 3\n",
    "print(a, b, d, e)\n",
    "print(id(a),id(b),id(d),id(e))"
   ]
  },
  {
   "cell_type": "code",
   "execution_count": 24,
   "metadata": {},
   "outputs": [
    {
     "name": "stdout",
     "output_type": "stream",
     "text": [
      "4548298176\n",
      "3 2 2 4 2\n"
     ]
    }
   ],
   "source": [
    "import copy ## Recommended method of assigning an array to another variable!\n",
    "f = copy.deepcopy(e)\n",
    "print(id(f))\n",
    "e = 4\n",
    "print(a, b, d, e, f)"
   ]
  },
  {
   "cell_type": "markdown",
   "metadata": {},
   "source": [
    "Specified **module** for special usages：\n",
    "\n",
    "```Python\n",
    "import math\n",
    "```\n",
    "\n",
    "* `x**2`: Calculate $x^2$. If x is a matrix，return each element's square in $x$。\n",
    "* `inf`: Positive infinity\n",
    "* `and`, `or`, `not`: logical operator\n",
    "* ```Python\n",
    "a = {'k':'d','l':'o'}\n",
    "a.get('a','z')\n",
    "```\n",
    "\n",
    "Here `get` is equal to an `if`. If the former value（called “key”）is in `a`, Then return the corresponding value（called “value”), or else return the latter one. \n",
    "\n",
    "* `type(a)`: returns the type of `a`.\n",
    "* `z = complex(x,y)`: Defines a complex number: $z=x+iy$. (the module `numpy` is needed)\n",
    "`real(z)` for the real part, `imag(z)`for its imaginary part, and `abs(z)` for its module. \n"
   ]
  },
  {
   "cell_type": "code",
   "execution_count": 37,
   "metadata": {},
   "outputs": [
    {
     "name": "stdout",
     "output_type": "stream",
     "text": [
      "8.0\n"
     ]
    }
   ],
   "source": [
    "x = 4\n",
    "y = 1.5\n",
    "print(x**y)"
   ]
  },
  {
   "cell_type": "code",
   "execution_count": 38,
   "metadata": {},
   "outputs": [
    {
     "data": {
      "text/plain": [
       "'d'"
      ]
     },
     "execution_count": 38,
     "metadata": {},
     "output_type": "execute_result"
    }
   ],
   "source": [
    "a = {'k':'d','l':'o'}\n",
    "a.get('k','z')"
   ]
  },
  {
   "cell_type": "code",
   "execution_count": 39,
   "metadata": {},
   "outputs": [
    {
     "data": {
      "text/plain": [
       "'d'"
      ]
     },
     "execution_count": 39,
     "metadata": {},
     "output_type": "execute_result"
    }
   ],
   "source": [
    "a.get('k','z')"
   ]
  },
  {
   "cell_type": "code",
   "execution_count": 40,
   "metadata": {},
   "outputs": [
    {
     "name": "stdout",
     "output_type": "stream",
     "text": [
      "(2+4j)\n",
      "2.0\n",
      "4.0\n",
      "4.47213595499958\n",
      "4.47213595499958\n"
     ]
    }
   ],
   "source": [
    "import numpy as np\n",
    "z = complex(2.0,4.0)\n",
    "print(z)\n",
    "print(np.real(z))\n",
    "print(np.imag(z))\n",
    "print(np.abs(z))\n",
    "print(np.sqrt(2.0**2+4.0**2))"
   ]
  },
  {
   "cell_type": "markdown",
   "metadata": {},
   "source": [
    "### Excersize：\n",
    "1. The value of $\\log(29)$ and value of $e$.\n",
    "2. For the value of a function:\n",
    "$$\\begin{aligned}\n",
    "f(x) = \\displaystyle\\frac{x^3-2e^{-x}+6.3}{\\sqrt{x^2+\\pi^2}\\ln{(x+0.5)}}\n",
    "\\end{aligned}$$\n",
    "$f(2) = ?$\n"
   ]
  },
  {
   "cell_type": "code",
   "execution_count": 41,
   "metadata": {},
   "outputs": [
    {
     "name": "stdout",
     "output_type": "stream",
     "text": [
      "3.367295829986474\n",
      "2.718281828459045\n",
      "3.141592653589793\n",
      "ff(2.0) is:  4.111228190084167\n"
     ]
    }
   ],
   "source": [
    "## Answer：\n",
    "\n",
    "print(np.log(29.0))\n",
    "print(np.e)\n",
    "print(np.pi)\n",
    "\n",
    "def ff(x):\n",
    "    y = (x**3 - 2*np.e**(-x)+6.3)\\\n",
    "    /(np.sqrt(x**2+np.pi**2)*np.log(x+0.5))\n",
    "    return y\n",
    "\n",
    "print(\"ff(2.0) is: \",ff(2.0))"
   ]
  },
  {
   "cell_type": "markdown",
   "metadata": {},
   "source": [
    "## Basic operations of matrices\n",
    "\n",
    "1. \n",
    "```Python\n",
    "a = [1, 2, 3]\n",
    "```"
   ]
  },
  {
   "cell_type": "code",
   "execution_count": 42,
   "metadata": {},
   "outputs": [
    {
     "name": "stdout",
     "output_type": "stream",
     "text": [
      "[1, 2, 3]\n"
     ]
    }
   ],
   "source": [
    "a = [1, 2, 3] ## midlle bracket！！！\n",
    "print(a)"
   ]
  },
  {
   "cell_type": "code",
   "execution_count": 43,
   "metadata": {},
   "outputs": [
    {
     "name": "stdout",
     "output_type": "stream",
     "text": [
      "<class 'list'>\n"
     ]
    }
   ],
   "source": [
    "print (type(a))"
   ]
  },
  {
   "cell_type": "code",
   "execution_count": 44,
   "metadata": {},
   "outputs": [
    {
     "name": "stdout",
     "output_type": "stream",
     "text": [
      "<class 'numpy.ndarray'>\n"
     ]
    }
   ],
   "source": [
    "a = np.array(a)\n",
    "print(type(a))"
   ]
  },
  {
   "cell_type": "code",
   "execution_count": 45,
   "metadata": {},
   "outputs": [
    {
     "name": "stdout",
     "output_type": "stream",
     "text": [
      "[1 2 3]\n"
     ]
    }
   ],
   "source": [
    "print(a)"
   ]
  },
  {
   "cell_type": "code",
   "execution_count": 46,
   "metadata": {},
   "outputs": [
    {
     "name": "stdout",
     "output_type": "stream",
     "text": [
      "(1, 2, 3)\n",
      "<class 'tuple'>\n"
     ]
    }
   ],
   "source": [
    "b = tuple(a)\n",
    "print (b)\n",
    "print (type(b))"
   ]
  },
  {
   "cell_type": "code",
   "execution_count": 47,
   "metadata": {},
   "outputs": [
    {
     "name": "stdout",
     "output_type": "stream",
     "text": [
      "[ 1  2 12]\n"
     ]
    }
   ],
   "source": [
    "a[2]=12\n",
    "print(a)"
   ]
  },
  {
   "cell_type": "code",
   "execution_count": 48,
   "metadata": {},
   "outputs": [
    {
     "ename": "TypeError",
     "evalue": "'tuple' object does not support item assignment",
     "output_type": "error",
     "traceback": [
      "\u001b[0;31m---------------------------------------------------------------------------\u001b[0m",
      "\u001b[0;31mTypeError\u001b[0m                                 Traceback (most recent call last)",
      "\u001b[0;32m<ipython-input-48-f2700d4ecd96>\u001b[0m in \u001b[0;36m<module>\u001b[0;34m\u001b[0m\n\u001b[0;32m----> 1\u001b[0;31m \u001b[0mb\u001b[0m\u001b[0;34m[\u001b[0m\u001b[0;36m2\u001b[0m\u001b[0;34m]\u001b[0m\u001b[0;34m=\u001b[0m\u001b[0;36m15\u001b[0m\u001b[0;34m\u001b[0m\u001b[0;34m\u001b[0m\u001b[0m\n\u001b[0m\u001b[1;32m      2\u001b[0m \u001b[0mprint\u001b[0m\u001b[0;34m(\u001b[0m\u001b[0mb\u001b[0m\u001b[0;34m)\u001b[0m\u001b[0;34m\u001b[0m\u001b[0;34m\u001b[0m\u001b[0m\n",
      "\u001b[0;31mTypeError\u001b[0m: 'tuple' object does not support item assignment"
     ]
    }
   ],
   "source": [
    "b[2]=15\n",
    "print(b)\n"
   ]
  },
  {
   "cell_type": "code",
   "execution_count": 49,
   "metadata": {},
   "outputs": [
    {
     "name": "stdout",
     "output_type": "stream",
     "text": [
      "3\n"
     ]
    }
   ],
   "source": [
    "print(b[2])"
   ]
  },
  {
   "cell_type": "code",
   "execution_count": 51,
   "metadata": {},
   "outputs": [
    {
     "name": "stdout",
     "output_type": "stream",
     "text": [
      "[[1, 3], [4, 5]]\n",
      "3\n",
      "<class 'list'>\n"
     ]
    }
   ],
   "source": [
    "c = [[1,3],[4,5]]\n",
    "print(c)\n",
    "print(c[0][1])\n",
    "print(type(c))"
   ]
  },
  {
   "cell_type": "code",
   "execution_count": 53,
   "metadata": {},
   "outputs": [
    {
     "name": "stdout",
     "output_type": "stream",
     "text": [
      "[[0. 3. 0.]\n",
      " [0. 0. 0.]\n",
      " [0. 0. 0.]]\n",
      "<class 'numpy.ndarray'>\n"
     ]
    }
   ],
   "source": [
    "import numpy as np\n",
    "x = np.zeros((3,3))\n",
    "x[0,1]=3\n",
    "print(x)\n",
    "print(type(x))"
   ]
  },
  {
   "cell_type": "code",
   "execution_count": 20,
   "metadata": {},
   "outputs": [
    {
     "name": "stdout",
     "output_type": "stream",
     "text": [
      "<type 'list'>\n",
      "<type 'numpy.ndarray'>\n"
     ]
    }
   ],
   "source": [
    "print type(c)\n",
    "print type(x)"
   ]
  },
  {
   "cell_type": "markdown",
   "metadata": {},
   "source": [
    "## Get part of the matrix：comma (\":\")"
   ]
  },
  {
   "cell_type": "code",
   "execution_count": 55,
   "metadata": {},
   "outputs": [
    {
     "name": "stdout",
     "output_type": "stream",
     "text": [
      "[[0. 0. 0.]\n",
      " [0. 0. 0.]\n",
      " [0. 0. 0.]]\n",
      "[[0. 1. 2.]\n",
      " [1. 2. 3.]\n",
      " [2. 3. 4.]]\n"
     ]
    }
   ],
   "source": [
    "import numpy as np\n",
    "a = np.zeros((3,3));\n",
    "print(a)\n",
    "for i in range(3):\n",
    "    for j in range(3):\n",
    "        a[i,j] = i+j\n",
    "\n",
    "print(a)"
   ]
  },
  {
   "cell_type": "markdown",
   "metadata": {},
   "source": [
    "* `A[:,k]`   The $k$th column of $A$\n",
    "* `A[k,:]`   The $k$th row of $A$\n",
    "* `A[:,k:m]`   The sub-matrix composed by the $k$th to ($m-1$)th row of $A$.\n"
   ]
  },
  {
   "cell_type": "code",
   "execution_count": 57,
   "metadata": {},
   "outputs": [
    {
     "data": {
      "text/plain": [
       "array([[0., 1.],\n",
       "       [1., 2.]])"
      ]
     },
     "execution_count": 57,
     "metadata": {},
     "output_type": "execute_result"
    }
   ],
   "source": [
    "a[0:2,0:2]"
   ]
  },
  {
   "cell_type": "markdown",
   "metadata": {},
   "source": [
    "# Excersize：\n",
    "Define an arbitary $4\\times 4$ matrix，then get a sub matrix composed by the 1, 3 row and 1, 2 column of $A$ (a $2\\times 2$ matrix)."
   ]
  },
  {
   "cell_type": "code",
   "execution_count": 58,
   "metadata": {
    "scrolled": true
   },
   "outputs": [
    {
     "name": "stdout",
     "output_type": "stream",
     "text": [
      "[[False False False]\n",
      " [False False False]\n",
      " [False False  True]]\n"
     ]
    }
   ],
   "source": [
    "print(a>3)"
   ]
  },
  {
   "cell_type": "code",
   "execution_count": 60,
   "metadata": {},
   "outputs": [
    {
     "name": "stdout",
     "output_type": "stream",
     "text": [
      "[4.]\n"
     ]
    }
   ],
   "source": [
    "print(a[a>3])\n"
   ]
  },
  {
   "cell_type": "code",
   "execution_count": 61,
   "metadata": {},
   "outputs": [
    {
     "name": "stdout",
     "output_type": "stream",
     "text": [
      "[0. 1. 2. 1. 2. 2.]\n"
     ]
    }
   ],
   "source": [
    "print(a[a<3])"
   ]
  },
  {
   "cell_type": "markdown",
   "metadata": {},
   "source": [
    "Comon matrix functions：\n",
    "```Python\n",
    "np.zeros()\n",
    "np.ones()\n",
    "np.diag()\n",
    "np.random.rand()\n",
    "np.random.randn()\n",
    "```\n",
    "HW: What's the different between rand and randn?"
   ]
  },
  {
   "cell_type": "code",
   "execution_count": 66,
   "metadata": {},
   "outputs": [
    {
     "name": "stdout",
     "output_type": "stream",
     "text": [
      "[[3 0 0]\n",
      " [0 3 0]\n",
      " [0 0 5]]\n"
     ]
    }
   ],
   "source": [
    "print(np.diag((3,3,5)))"
   ]
  },
  {
   "cell_type": "code",
   "execution_count": 29,
   "metadata": {},
   "outputs": [
    {
     "name": "stdout",
     "output_type": "stream",
     "text": [
      "[[ 0.02168266  0.66371713  0.04221692]\n",
      " [ 0.89340548  0.05496524  0.06364989]\n",
      " [ 0.96632395  0.79121522  0.89133716]]\n"
     ]
    }
   ],
   "source": [
    "print np.random.rand(3,3)"
   ]
  },
  {
   "cell_type": "code",
   "execution_count": 68,
   "metadata": {},
   "outputs": [
    {
     "name": "stdout",
     "output_type": "stream",
     "text": [
      "[0. 2. 4.]\n"
     ]
    }
   ],
   "source": [
    "print(np.diag(a))"
   ]
  },
  {
   "cell_type": "markdown",
   "metadata": {},
   "source": [
    "Check the size of a matrix：\n",
    "\n",
    "```Python\n",
    "np.size()\n",
    "np.length()\n",
    "```\n",
    "Check the shape of a matrix:\n",
    "```Python\n",
    "np.shape()\n",
    "```"
   ]
  },
  {
   "cell_type": "code",
   "execution_count": 73,
   "metadata": {},
   "outputs": [
    {
     "name": "stdout",
     "output_type": "stream",
     "text": [
      "9\n",
      "(3, 3)\n"
     ]
    }
   ],
   "source": [
    "print(np.size(a))\n",
    "#print(np.length(a))\n",
    "print(np.shape(a))"
   ]
  },
  {
   "cell_type": "markdown",
   "metadata": {},
   "source": [
    "# Matrix operation\n",
    "\n",
    "```Python\n",
    "np.concatenate()\n",
    "np.vstack()\n",
    "np.hstack()\n",
    "```\n",
    "* Product element by element: \n",
    "```Python\n",
    "A*B\n",
    "```\n",
    "or\n",
    "```Python\n",
    "np.multiply(A,B)\n",
    "```\n",
    "* dot prouct: \n",
    "```Python\n",
    "np.dot(A,B)\n",
    "```\n",
    "* Inverse:\n",
    "```Python\n",
    "np.linalg.inv(A)\n",
    "```\n",
    "\n",
    "```Python\n",
    "A = np.matrix(A)\n",
    "A.I\n",
    "```"
   ]
  },
  {
   "cell_type": "code",
   "execution_count": 74,
   "metadata": {},
   "outputs": [
    {
     "name": "stdout",
     "output_type": "stream",
     "text": [
      "[[0. 0. 0.]\n",
      " [0. 0. 0.]\n",
      " [0. 0. 0.]]\n",
      "9\n",
      "(3, 3)\n",
      "3 3\n"
     ]
    }
   ],
   "source": [
    "a = np.zeros((3,3))\n",
    "print(a)\n",
    "print(np.size(a))\n",
    "print(np.shape(a))\n",
    "m, n = np.shape(a) ###\n",
    "print(m, n)"
   ]
  },
  {
   "cell_type": "code",
   "execution_count": 20,
   "metadata": {},
   "outputs": [
    {
     "name": "stdout",
     "output_type": "stream",
     "text": [
      "[[1. 1. 1.]\n",
      " [1. 1. 1.]\n",
      " [1. 1. 1.]]\n",
      "[[0. 0. 0.]\n",
      " [0. 0. 0.]\n",
      " [0. 0. 0.]\n",
      " [1. 1. 1.]\n",
      " [1. 1. 1.]\n",
      " [1. 1. 1.]]\n",
      "d:\n",
      "[[0. 0. 0. 1. 1. 1.]\n",
      " [0. 0. 0. 1. 1. 1.]\n",
      " [0. 0. 0. 1. 1. 1.]]\n"
     ]
    }
   ],
   "source": [
    "b = np.ones((3,3))\n",
    "print(b)\n",
    "c = np.vstack((a,b))\n",
    "print(c)\n",
    "d = np.hstack((a,b))\n",
    "print(\"d:\")\n",
    "print(d)"
   ]
  },
  {
   "cell_type": "code",
   "execution_count": 75,
   "metadata": {},
   "outputs": [
    {
     "name": "stdout",
     "output_type": "stream",
     "text": [
      "[[1.04441065 3.87894104 0.53566449]\n",
      " [2.43011349 1.382988   0.97802174]\n",
      " [2.07884003 3.79777179 1.00297903]]\n",
      "---\n",
      "[[0.09464005 0.29568651 0.89857288]\n",
      " [0.43805958 0.53838293 0.36858571]\n",
      " [0.43027705 0.54233443 0.68402568]]\n",
      "---\n",
      "[[0.09884308 1.14695052 0.48133358]\n",
      " [1.06453449 0.74457713 0.36048484]\n",
      " [0.89447716 2.0596624  0.68606341]]\n"
     ]
    }
   ],
   "source": [
    "A = np.random.normal(1.0,2.0,(3,3))\n",
    "B = np.random.random((3,3))\n",
    "print(A)\n",
    "print(\"---\")\n",
    "print(B)\n",
    "print(\"---\")\n",
    "print(A*B)\n"
   ]
  },
  {
   "cell_type": "code",
   "execution_count": 76,
   "metadata": {},
   "outputs": [
    {
     "name": "stdout",
     "output_type": "stream",
     "text": [
      "1.146950522436421\n"
     ]
    }
   ],
   "source": [
    "print(A[0,1]*B[0,1])"
   ]
  },
  {
   "cell_type": "code",
   "execution_count": 77,
   "metadata": {},
   "outputs": [
    {
     "name": "stdout",
     "output_type": "stream",
     "text": [
      "[[0.09884308 1.14695052 0.48133358]\n",
      " [1.06453449 0.74457713 0.36048484]\n",
      " [0.89447716 2.0596624  0.68606341]]\n"
     ]
    }
   ],
   "source": [
    "print(np.multiply(A,B))"
   ]
  },
  {
   "cell_type": "code",
   "execution_count": 79,
   "metadata": {},
   "outputs": [
    {
     "name": "stdout",
     "output_type": "stream",
     "text": [
      "[[2.0285345  2.68768307 2.73460959]\n",
      " [1.25663752 1.99354376 3.36237567]\n",
      " [2.2919507  3.2032905  3.9538571 ]]\n"
     ]
    }
   ],
   "source": [
    "print(np.dot(A,B))"
   ]
  },
  {
   "cell_type": "code",
   "execution_count": 80,
   "metadata": {},
   "outputs": [
    {
     "name": "stdout",
     "output_type": "stream",
     "text": [
      "[[ 1.   0.4]\n",
      " [ 0.5 -1. ]]\n",
      "<class 'numpy.ndarray'>\n",
      "[[ 0.83333333  0.33333333]\n",
      " [ 0.41666667 -0.83333333]]\n",
      "[[ 0.83333333  0.33333333]\n",
      " [ 0.41666667 -0.83333333]]\n",
      "<class 'numpy.matrix'>\n"
     ]
    }
   ],
   "source": [
    "b = np.zeros((2,2))\n",
    "b[0,0]=1.0\n",
    "b[1,1] = -b[0,0]\n",
    "b[0,1] = 0.4\n",
    "b[1,0] = 0.5\n",
    "print(b)\n",
    "print(type(b))\n",
    "print(np.linalg.inv(b))\n",
    "\n",
    "c = np.mat(b)\n",
    "print(c.I)\n",
    "print(type(c))"
   ]
  },
  {
   "cell_type": "markdown",
   "metadata": {},
   "source": [
    "## Operation for Matrices：\n",
    "* .T －－ return the **t**ranspose\n",
    "\n",
    "* .H －－ return the **H**ermite conjugation\n",
    "\n",
    "* .I －－ return the **i**nverse"
   ]
  },
  {
   "cell_type": "code",
   "execution_count": 33,
   "metadata": {},
   "outputs": [
    {
     "name": "stdout",
     "output_type": "stream",
     "text": [
      "[[ 1.   0.5]\n",
      " [ 0.4 -1. ]]\n"
     ]
    }
   ],
   "source": [
    "print c.T"
   ]
  },
  {
   "cell_type": "markdown",
   "metadata": {},
   "source": [
    "# The strings in Python\n",
    "\n",
    "Hello world!"
   ]
  },
  {
   "cell_type": "code",
   "execution_count": 81,
   "metadata": {},
   "outputs": [
    {
     "name": "stdout",
     "output_type": "stream",
     "text": [
      "Hello world!\n"
     ]
    }
   ],
   "source": [
    "print('Hello world!')"
   ]
  },
  {
   "cell_type": "code",
   "execution_count": 82,
   "metadata": {},
   "outputs": [
    {
     "name": "stdout",
     "output_type": "stream",
     "text": [
      "5.0\n"
     ]
    }
   ],
   "source": [
    "a=3.0\n",
    "b=2.0\n",
    "print(a+b)\n"
   ]
  },
  {
   "cell_type": "code",
   "execution_count": 83,
   "metadata": {},
   "outputs": [
    {
     "name": "stdout",
     "output_type": "stream",
     "text": [
      "2.03.0\n"
     ]
    }
   ],
   "source": [
    "ca = \"2.0\"\n",
    "cb = \"3.0\"\n",
    "print(ca+cb)"
   ]
  },
  {
   "cell_type": "code",
   "execution_count": 84,
   "metadata": {},
   "outputs": [],
   "source": [
    "p=\"Plato\"\n"
   ]
  },
  {
   "cell_type": "code",
   "execution_count": 85,
   "metadata": {},
   "outputs": [
    {
     "data": {
      "text/plain": [
       "'l'"
      ]
     },
     "execution_count": 85,
     "metadata": {},
     "output_type": "execute_result"
    }
   ],
   "source": [
    "p[1]"
   ]
  },
  {
   "cell_type": "code",
   "execution_count": 86,
   "metadata": {},
   "outputs": [
    {
     "data": {
      "text/plain": [
       "'o'"
      ]
     },
     "execution_count": 86,
     "metadata": {},
     "output_type": "execute_result"
    }
   ],
   "source": [
    "p[-1]"
   ]
  },
  {
   "cell_type": "code",
   "execution_count": 87,
   "metadata": {},
   "outputs": [
    {
     "data": {
      "text/plain": [
       "5"
      ]
     },
     "execution_count": 87,
     "metadata": {},
     "output_type": "execute_result"
    }
   ],
   "source": [
    "len(p)"
   ]
  },
  {
   "cell_type": "code",
   "execution_count": null,
   "metadata": {},
   "outputs": [],
   "source": [
    "p[len(p)-2] # also works, but why write len(p) all the time?"
   ]
  },
  {
   "cell_type": "code",
   "execution_count": 35,
   "metadata": {
    "scrolled": true
   },
   "outputs": [
    {
     "data": {
      "text/plain": [
       "'P'"
      ]
     },
     "execution_count": 35,
     "metadata": {},
     "output_type": "execute_result"
    }
   ],
   "source": [
    "p[0:1]"
   ]
  },
  {
   "cell_type": "code",
   "execution_count": 88,
   "metadata": {},
   "outputs": [
    {
     "data": {
      "text/plain": [
       "'at'"
      ]
     },
     "execution_count": 88,
     "metadata": {},
     "output_type": "execute_result"
    }
   ],
   "source": [
    "p[2:4]"
   ]
  },
  {
   "cell_type": "markdown",
   "metadata": {},
   "source": [
    "```python\n",
    "(stop - start) == len(s[start:stop])\n",
    "```"
   ]
  },
  {
   "cell_type": "markdown",
   "metadata": {},
   "source": [
    "![String](./graph/string.png)"
   ]
  },
  {
   "cell_type": "code",
   "execution_count": null,
   "metadata": {},
   "outputs": [],
   "source": [
    "p[1:-1]"
   ]
  },
  {
   "cell_type": "code",
   "execution_count": null,
   "metadata": {},
   "outputs": [],
   "source": [
    "p[-1:2]"
   ]
  },
  {
   "cell_type": "code",
   "execution_count": null,
   "metadata": {},
   "outputs": [],
   "source": [
    "print p[:2] # the first two elements \n",
    "print p[-2:] # the last five elements \n",
    "print p[:] # the whole string!\n",
    "print p[:-1]"
   ]
  },
  {
   "cell_type": "code",
   "execution_count": 36,
   "metadata": {
    "collapsed": true
   },
   "outputs": [],
   "source": [
    "#q = \"AaBbCcDdEeFfGgHhIiJjKkLlMmNnOoPpQqRrSsTtUuVvWwXxYyZz\"\n",
    "q = \"AaBbCc\""
   ]
  },
  {
   "cell_type": "markdown",
   "metadata": {},
   "source": [
    "```python\n",
    "s[start:stop:step]\n",
    "```"
   ]
  },
  {
   "cell_type": "code",
   "execution_count": null,
   "metadata": {},
   "outputs": [],
   "source": [
    "q[2:-2:2]"
   ]
  },
  {
   "cell_type": "code",
   "execution_count": null,
   "metadata": {},
   "outputs": [],
   "source": [
    "q[1::2]"
   ]
  },
  {
   "cell_type": "code",
   "execution_count": 37,
   "metadata": {},
   "outputs": [
    {
     "data": {
      "text/plain": [
       "'cB'"
      ]
     },
     "execution_count": 37,
     "metadata": {},
     "output_type": "execute_result"
    }
   ],
   "source": [
    "q[::-3] ## ?????"
   ]
  },
  {
   "cell_type": "code",
   "execution_count": null,
   "metadata": {},
   "outputs": [],
   "source": [
    "              1\n",
    "#   01234567890123456\n",
    "x = \"neveroddoreven\" ## Clue here.\n",
    "x == x[::-1]"
   ]
  },
  {
   "cell_type": "markdown",
   "metadata": {},
   "source": [
    "To create a raw slice, use the expression \n",
    "```python\n",
    "slice(start, stop, step). \n",
    "```"
   ]
  },
  {
   "cell_type": "code",
   "execution_count": null,
   "metadata": {},
   "outputs": [],
   "source": [
    "q =p[slice(1,3,1)]\n",
    "print q"
   ]
  },
  {
   "cell_type": "code",
   "execution_count": null,
   "metadata": {
    "collapsed": true
   },
   "outputs": [],
   "source": [
    "my_slice = slice(3, 1415, 9) # my slice of the pi"
   ]
  },
  {
   "cell_type": "code",
   "execution_count": null,
   "metadata": {
    "collapsed": true
   },
   "outputs": [],
   "source": [
    "my_slice = slice(3,10, 9) # my slice of the pi"
   ]
  },
  {
   "cell_type": "code",
   "execution_count": null,
   "metadata": {
    "collapsed": true
   },
   "outputs": [],
   "source": [
    "print x[my_slice]\n",
    "print len(x)"
   ]
  },
  {
   "cell_type": "markdown",
   "metadata": {},
   "source": [
    "## String Concatenation"
   ]
  },
  {
   "cell_type": "code",
   "execution_count": null,
   "metadata": {},
   "outputs": [],
   "source": [
    "print \"kilo\" + \"meter\""
   ]
  },
  {
   "cell_type": "code",
   "execution_count": 89,
   "metadata": {},
   "outputs": [
    {
     "name": "stdout",
     "output_type": "stream",
     "text": [
      "x^2\n"
     ]
    }
   ],
   "source": [
    "print(\"x^\" + str(2))"
   ]
  },
  {
   "cell_type": "markdown",
   "metadata": {},
   "source": [
    "$x^2$\n"
   ]
  },
  {
   "cell_type": "code",
   "execution_count": 90,
   "metadata": {},
   "outputs": [
    {
     "name": "stdout",
     "output_type": "stream",
     "text": [
      "x^00000003\n"
     ]
    }
   ],
   "source": [
    "print(\"x^\"+'{:08d}'.format(3))"
   ]
  },
  {
   "cell_type": "code",
   "execution_count": 92,
   "metadata": {},
   "outputs": [
    {
     "name": "stdout",
     "output_type": "stream",
     "text": [
      "x^00002.00\n"
     ]
    }
   ],
   "source": [
    "print(\"x^\"+'{:08.2f}'.format(2.0))"
   ]
  },
  {
   "cell_type": "code",
   "execution_count": 93,
   "metadata": {},
   "outputs": [
    {
     "data": {
      "text/plain": [
       "'newtonewtonewtonewtonewtonewtonewtonewtonewtonewto'"
      ]
     },
     "execution_count": 93,
     "metadata": {},
     "output_type": "execute_result"
    }
   ],
   "source": [
    "\"newto\" * 10"
   ]
  },
  {
   "cell_type": "code",
   "execution_count": 94,
   "metadata": {},
   "outputs": [],
   "source": [
    "Quote=\"Bones said, \\\"He\\'s dead, Jim.\\\"\""
   ]
  },
  {
   "cell_type": "code",
   "execution_count": 96,
   "metadata": {},
   "outputs": [
    {
     "name": "stdout",
     "output_type": "stream",
     "text": [
      "Bones said, \"He's dead, Jim.\"\n"
     ]
    }
   ],
   "source": [
    "print(Quote)"
   ]
  },
  {
   "cell_type": "markdown",
   "metadata": {},
   "source": [
    "\n",
    "Character | Interpretation \n",
    ":--: | --: \n",
    " \\\\\\ | Backslash \n",
    " \\n | Newline—start a new line \n",
    " \\r | Carriage return - go to the start of this line \n",
    " \\t | Tab \n",
    " \\' | Single quote \n",
    " \\\" | Double quote \n",
    "\n"
   ]
  },
  {
   "cell_type": "markdown",
   "metadata": {},
   "source": [
    "## String methods"
   ]
  },
  {
   "cell_type": "code",
   "execution_count": 98,
   "metadata": {},
   "outputs": [],
   "source": [
    "header = \" temperature pressure\\t value \\n\""
   ]
  },
  {
   "cell_type": "code",
   "execution_count": 99,
   "metadata": {},
   "outputs": [
    {
     "name": "stdout",
     "output_type": "stream",
     "text": [
      " temperature pressure\t value \n",
      "\n"
     ]
    }
   ],
   "source": [
    "print(header)"
   ]
  },
  {
   "cell_type": "code",
   "execution_count": 100,
   "metadata": {},
   "outputs": [
    {
     "data": {
      "text/plain": [
       "'temperature pressure\\t value'"
      ]
     },
     "execution_count": 100,
     "metadata": {},
     "output_type": "execute_result"
    }
   ],
   "source": [
    "header.strip()"
   ]
  },
  {
   "cell_type": "code",
   "execution_count": 101,
   "metadata": {},
   "outputs": [
    {
     "name": "stdout",
     "output_type": "stream",
     "text": [
      "temperature pressure\t value\n"
     ]
    }
   ],
   "source": [
    "print(header.strip())"
   ]
  },
  {
   "cell_type": "code",
   "execution_count": 102,
   "metadata": {},
   "outputs": [
    {
     "name": "stdout",
     "output_type": "stream",
     "text": [
      " TEMPERATURE PRESSURE\t VALUE \n",
      "\n"
     ]
    }
   ],
   "source": [
    "print(header.upper())"
   ]
  },
  {
   "cell_type": "markdown",
   "metadata": {},
   "source": [
    "If $n\\in \\mathbb{N}$, the `\"n\".isdigit()` is `True`."
   ]
  },
  {
   "cell_type": "code",
   "execution_count": 103,
   "metadata": {},
   "outputs": [
    {
     "data": {
      "text/plain": [
       "True"
      ]
     },
     "execution_count": 103,
     "metadata": {},
     "output_type": "execute_result"
    }
   ],
   "source": [
    "\"10\".isdigit() ## True once \"n\" is integer."
   ]
  },
  {
   "cell_type": "code",
   "execution_count": 104,
   "metadata": {},
   "outputs": [
    {
     "data": {
      "text/plain": [
       "False"
      ]
     },
     "execution_count": 104,
     "metadata": {},
     "output_type": "execute_result"
    }
   ],
   "source": [
    "\"10.10\".isdigit()"
   ]
  },
  {
   "cell_type": "code",
   "execution_count": 105,
   "metadata": {},
   "outputs": [
    {
     "name": "stdout",
     "output_type": "stream",
     "text": [
      " temperature pressure\t value \n",
      "\n"
     ]
    }
   ],
   "source": [
    "hL=header.upper()\n",
    "print(hL.swapcase())"
   ]
  },
  {
   "cell_type": "code",
   "execution_count": 106,
   "metadata": {},
   "outputs": [
    {
     "name": "stdout",
     "output_type": "stream",
     "text": [
      "pLATO\n"
     ]
    }
   ],
   "source": [
    "print('Plato'.swapcase())"
   ]
  },
  {
   "cell_type": "markdown",
   "metadata": {},
   "source": [
    "## More complecated"
   ]
  },
  {
   "cell_type": "code",
   "execution_count": 107,
   "metadata": {},
   "outputs": [
    {
     "data": {
      "text/plain": [
       "'Hilbert gets into work & then his commute begins!'"
      ]
     },
     "execution_count": 107,
     "metadata": {},
     "output_type": "execute_result"
    }
   ],
   "source": [
    "\"{0} gets into work & then his {1} begins!\"\\\n",
    ".format(\"Hilbert\", \"commute\")"
   ]
  },
  {
   "cell_type": "code",
   "execution_count": null,
   "metadata": {},
   "outputs": [],
   "source": [
    "'{:12f}'.format(1.0E4)"
   ]
  },
  {
   "cell_type": "code",
   "execution_count": null,
   "metadata": {},
   "outputs": [],
   "source": [
    "help(len)"
   ]
  },
  {
   "cell_type": "code",
   "execution_count": null,
   "metadata": {
    "collapsed": true
   },
   "outputs": [],
   "source": [
    "x=42\n",
    "y=65.0\n",
    "print \"Formatted: x={0} y={1}\".format(x, y)\n",
    "print \"x=\" + str(x) + \" y=\" + str(y)"
   ]
  },
  {
   "cell_type": "markdown",
   "metadata": {},
   "source": [
    "\n",
    "## Libraries -- modules\n"
   ]
  },
  {
   "cell_type": "markdown",
   "metadata": {},
   "source": [
    "Module | Description\n",
    " :-   |  :-\n",
    "os   | Operating system abstractions: file path operations, file removal, etc. \n",
    "sys  | System-specific, gets into the guts of the Python interpreter\n",
    "math | Everyday mathematical functions and constants\n",
    "re   | Regular expression library\n",
    "subprocess | Spawns child processes and shells, good for running other command-line tools \n",
    "argparse   | Creates easy and beautiful command-line utilities\n",
    "itertools  | Helpful tools for looping\n",
    "collections | Advanced collection types and tools for making custom collections\n",
    "decimal    | Arbitrary-precision integers and floats\n",
    "random     | Pseudo-random number generators\n",
    "csv        | Tools for reading and writing comma-separated value files\n",
    "pdb        | The Python debugger (similar togdbfor C/C++/Fortran) logging Utilities for logging the progress of a program while it is running"
   ]
  },
  {
   "cell_type": "markdown",
   "metadata": {},
   "source": [
    "# Elementary coding\n",
    "\n",
    "1. if\n",
    "2. for loop\n",
    "3. print\n",
    "4. debug"
   ]
  },
  {
   "cell_type": "code",
   "execution_count": 109,
   "metadata": {},
   "outputs": [
    {
     "name": "stdout",
     "output_type": "stream",
     "text": [
      "Show me the a:\n",
      "10\n",
      "10.0\n"
     ]
    }
   ],
   "source": [
    "a = input(\"Show me the a:\\n\") ## Now a is a string.\n",
    "a = float(a)\n",
    "\n",
    "if a>5 or a<0:\n",
    "    print(a)\n",
    "else:\n",
    "    print(\"I don't want to print.\")\n",
    "    \n",
    "    "
   ]
  },
  {
   "cell_type": "code",
   "execution_count": null,
   "metadata": {
    "collapsed": true
   },
   "outputs": [],
   "source": []
  },
  {
   "cell_type": "code",
   "execution_count": 112,
   "metadata": {},
   "outputs": [
    {
     "name": "stdout",
     "output_type": "stream",
     "text": [
      "3\n",
      "4\n",
      "Before:  11.0\n",
      "After:  11.0\n",
      "Before:  21.0\n",
      "After:  21.0\n",
      "Before:  33.0\n"
     ]
    }
   ],
   "source": [
    "\n",
    "for i in range(5):\n",
    "    if i>2:\n",
    "        print(i)\n",
    "        \n",
    "x=[11.0,21.0,33.0,44.0]\n",
    "for xi in x:\n",
    "    print(\"Before: \", xi)\n",
    "    if xi>30.0:\n",
    "        break\n",
    "    print(\"After: \", xi)"
   ]
  },
  {
   "cell_type": "markdown",
   "metadata": {},
   "source": [
    "# Excersize:\n",
    "\n",
    "Generate a random integer within [1,20]，then guess this number。\n",
    "Give hints for missed guess:\n",
    "* “High”, too large. \n",
    "* “Low” , too small. \n",
    "* Gets hitted, show “You won\", and then quit the program. \n",
    "* One has as much as 7 tries.\n"
   ]
  },
  {
   "cell_type": "code",
   "execution_count": 3,
   "metadata": {},
   "outputs": [
    {
     "name": "stdout",
     "output_type": "stream",
     "text": [
      "Give me a guess:3\n",
      "High\n",
      "Give me a guess:3\n",
      "High\n",
      "Give me a guess:1\n",
      "High\n",
      "Give me a guess:2\n",
      "High\n",
      "Give me a guess:5\n",
      "High\n",
      "Give me a guess:-1\n",
      "Low\n",
      "Give me a guess:0\n",
      "Low\n"
     ]
    }
   ],
   "source": [
    "\n",
    "import numpy as np\n",
    "\n",
    "a = 0.0\n",
    "a = np.random.rand()\n",
    "eps = 1.0E-6\n",
    "for i in range(7):\n",
    "    \n",
    "    b = input(\"Give me a guess:\")\n",
    "    b = np.float(b)\n",
    "    c = (b-a)\n",
    "    if np.abs(c)< eps:\n",
    "        print(\"You won!\")\n",
    "        break\n",
    "    elif c>0:\n",
    "        print(\"High\")\n",
    "    elif c<0:\n",
    "        print(\"Low\")\n",
    "\n"
   ]
  },
  {
   "cell_type": "code",
   "execution_count": 3,
   "metadata": {},
   "outputs": [
    {
     "data": {
      "text/plain": [
       "60.099999999999994"
      ]
     },
     "execution_count": 3,
     "metadata": {},
     "output_type": "execute_result"
    }
   ],
   "source": [
    "43*0.7+30"
   ]
  },
  {
   "cell_type": "code",
   "execution_count": null,
   "metadata": {},
   "outputs": [],
   "source": []
  }
 ],
 "metadata": {
  "celltoolbar": "Slideshow",
  "kernelspec": {
   "display_name": "Python 3",
   "language": "python",
   "name": "python3"
  },
  "language_info": {
   "codemirror_mode": {
    "name": "ipython",
    "version": 3
   },
   "file_extension": ".py",
   "mimetype": "text/x-python",
   "name": "python",
   "nbconvert_exporter": "python",
   "pygments_lexer": "ipython3",
   "version": "3.7.3"
  }
 },
 "nbformat": 4,
 "nbformat_minor": 2
}
