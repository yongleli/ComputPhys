{
 "cells": [
  {
   "cell_type": "code",
   "execution_count": 1,
   "metadata": {},
   "outputs": [],
   "source": [
    "%matplotlib inline\n",
    "\n",
    "import numpy as np\n",
    "import matplotlib.pyplot as plt\n"
   ]
  },
  {
   "cell_type": "code",
   "execution_count": 9,
   "metadata": {},
   "outputs": [],
   "source": [
    "mass0=[15.9994,1.00794,15.9994,1.00794]\n",
    "mass = np.zeros(4)\n",
    "for i in range(4):\n",
    "    mass[i] = mass0[i]*1836.0"
   ]
  },
  {
   "cell_type": "code",
   "execution_count": 10,
   "metadata": {},
   "outputs": [
    {
     "name": "stdout",
     "output_type": "stream",
     "text": [
      "[29374.8984   1850.57784 29374.8984   1850.57784]\n"
     ]
    }
   ],
   "source": [
    "print(mass)"
   ]
  },
  {
   "cell_type": "code",
   "execution_count": 12,
   "metadata": {},
   "outputs": [],
   "source": [
    "coord = np.genfromtxt('HOOH.dat')\n",
    "## O H O H\n",
    "##\n",
    "## 2-1-3-4\n"
   ]
  },
  {
   "cell_type": "code",
   "execution_count": 13,
   "metadata": {},
   "outputs": [
    {
     "name": "stdout",
     "output_type": "stream",
     "text": [
      "(4, 3)\n"
     ]
    }
   ],
   "source": [
    "print(np.shape(coord))"
   ]
  },
  {
   "cell_type": "code",
   "execution_count": 15,
   "metadata": {},
   "outputs": [
    {
     "name": "stdout",
     "output_type": "stream",
     "text": [
      "[-1.6094  0.8226  0.49  ]\n",
      "[ 1.7879 -1.6356  0.    ]\n"
     ]
    }
   ],
   "source": [
    "v1 = coord[1,:]-coord[2,:]\n",
    "v2 = coord[3,:]-coord[1,:]\n",
    "print(v1)\n",
    "print(v2)"
   ]
  },
  {
   "cell_type": "code",
   "execution_count": 19,
   "metadata": {},
   "outputs": [
    {
     "name": "stdout",
     "output_type": "stream",
     "text": [
      "1.872682332911805\n"
     ]
    }
   ],
   "source": [
    "ll = 0.0\n",
    "for i in range(3):\n",
    "    ll += v1[i]**2\n",
    "    \n",
    "ll = np.sqrt(ll)\n",
    "print(ll)"
   ]
  },
  {
   "cell_type": "code",
   "execution_count": 18,
   "metadata": {},
   "outputs": [
    {
     "name": "stdout",
     "output_type": "stream",
     "text": [
      "1.872682332911805\n"
     ]
    }
   ],
   "source": [
    "print(np.linalg.norm(v1))"
   ]
  },
  {
   "cell_type": "markdown",
   "metadata": {},
   "source": [
    "# $\\sum_{{\\rm{bonds}}}K_{b}(b-b_0)^2+\\sum_{\\rm{angles}}K_{\\theta}(\\theta-\\theta_0)^2+\n",
    "\\sum_{\\rm{dihedrals}}K_{\\phi}(1+\\cos{(n\\phi-\\delta)}) +\n",
    "\\sum_{nb}\\left\\{\\frac{q_{i}q_{j}}{4\\pi D r_{ij}} + \\varepsilon_{ij}\\left[\n",
    "\\Big(\\frac{R_{\\rm{min},ij}}{r_{ij}}\\Big)^{12} - 2\\Big(\\frac{R_{\\rm{min},ij}}{r_{ij}}\\Big)^{6}\n",
    "\\right]\\right\\}\n",
    "$\n",
    "\n",
    "# In this case, we first set the partial charges of all atoms as zero."
   ]
  },
  {
   "cell_type": "code",
   "execution_count": null,
   "metadata": {},
   "outputs": [],
   "source": [
    "def bond(x,ia,ib):\n",
    "    b = 0.0\n",
    "    for k in range(3):\n",
    "        b += (x[ia,k]-x[ib,k])**2\n",
    "    b = np.sqrt(b)\n",
    "    return b\n",
    "def angle(x,ia,ib,ic):\n",
    "    v1 = x[ib,:]-x[ia,:]\n",
    "    v2 = x[ic,:]-x[ib,:]\n",
    "    denom = np.linalg.norm(v1)*np.linalg.norm(v2)\n",
    "    a = np.dot(v1,v2)/denom\n",
    "    return a\n",
    "def dihedral(x,ia,ib,ik,il):\n",
    "    v1 = x[ib,:]-x[ia,:]\n",
    "    v2 = x[ik,:]-x[ib,:]\n",
    "    v3 = x[il,:]-x[ik,:]\n",
    "    eijk = np.cross(v1,v2)\n",
    "    eijk = eijk / np.linalg.norm(eijk)\n",
    "    ejkl = np.cross(v2,v3)\n",
    "    ejkl = ejkl / np.linalg.norm(ejkl)\n",
    "    uijkl = np.dot(eijk,ejkl)\n",
    "    theta = np.arccos(uijkl)\n",
    "    return theta\n",
    "\n",
    "def pot(x):\n",
    "    Kb1 = 469365.3 ## OH\n",
    "    b10 = 0.9720   ## OH\n",
    "    Kb2 = 246184.9 ## OO\n",
    "    b20 = 1.4490   ## OO\n",
    "    Ka  = 820.21   ## H-O-O\n",
    "    ang0= 95.6970  ## H-O-O\n",
    "    phi0= 180.0    ## H-O-O-H\n",
    "    fu  = 9        ## H-O-O-H\n",
    "    kphi= -4.184   ## H-O-O-H\n",
    "    nn  = 2        ## H-O-O-H\n",
    "    \n",
    "    epsilon = 0.192464 \n",
    "    sigma   = 0.040001\n",
    "    \n",
    "    b1  = bond(x,1,2) ## H-O\n",
    "    b2  = bond(x,1,3) ## O-O\n",
    "    b3  = bond(x,3,4) ## O-H\n",
    "    Vb  = Kb1*(b1-b1)+Kb2*(b2-b20) + Kb1*(b3-b10)\n",
    "    ang1= angle(x,2,1,3)\n",
    "    ang2= angle(x,2,3,4)\n",
    "    Va  = Ka*(ang1-ang0)+Ka*(ang2-ang0)\n",
    "    dih = dihedral(x,2,1,3,4)\n",
    "    Vd  = Kphi*(1.0+cos(nn*dih-fu))\n",
    "    \n",
    "    ## V14, the van der Waals interaction.\n",
    "    d12 = bond(x,2,4)\n",
    "    p12 = sigma/d12\n",
    "    p12_12 = p12**12\n",
    "    p12_6  = p12**6\n",
    "    V14 = epsilon*(p12_12-2.0*p12_6)\n",
    "    \n",
    "    ## Here we omitted the electronic interaction.\n",
    "    ## partial charge: O: -0.4 a.u., H: +0.4 a.u.\n",
    "\n",
    "    potential = Vb+Va+Vd+V14\n",
    "    \n",
    "    return potential\n",
    "\n",
    "def gradient(x):\n",
    "    '''\n",
    "    Central defferential for dV/dx.\n",
    "    '''\n",
    "    h = 1.0E-4\n",
    "    two_h = 2.0*h\n",
    "    Natoms, Nd = np.shape(x)\n",
    "    dVdx = np.zeros((Natoms,Nd))\n",
    "    for i in range(Natoms):\n",
    "        for j in range(Nd):\n",
    "            x[i,j] = x[i,j]+h\n",
    "            Vf = pot(x)\n",
    "            x[i,j] = x[i,j]-h\n",
    "            \n",
    "            x[i,j] = x[i,j]-h\n",
    "            Vb = pot(x)\n",
    "            x[i,j] = x[i,j]+h\n",
    "            \n",
    "            dVdx[i,j] = (Vf-Vb)/twoh\n",
    "    return dVdx\n",
    "\n",
    "def COM(x,mass):\n",
    "    '''\n",
    "    Calculate the center of mass of the whole molecule.\n",
    "    '''\n",
    "    Natoms,Nd = np.shape(x)\n",
    "    COM = np.zeros(Nd)\n",
    "    for j in range(Nd):\n",
    "        mass_t = 0.0\n",
    "        for i in range(Natoms):\n",
    "            COM[j] += mass[i]*x[i,j]\n",
    "            mass_t += mass[i]\n",
    "        COM[j] = COM[j]/mass_t\n",
    "    return COM\n"
   ]
  },
  {
   "cell_type": "code",
   "execution_count": 2,
   "metadata": {},
   "outputs": [],
   "source": [
    "import numpy as np"
   ]
  },
  {
   "cell_type": "code",
   "execution_count": 3,
   "metadata": {},
   "outputs": [],
   "source": [
    "%matplotlib inline\n",
    "import matplotlib.pyplot as plt\n",
    "\n",
    "import matplotlib as mpl\n",
    "mpl.rcParams['mathtext.fontset'] = 'custom'\n",
    "mpl.rcParams['mathtext.rm'] = 'Times New Roman'\n",
    "mpl.rcParams['mathtext.it'] = 'Times New Roman:italic'\n",
    "mpl.rcParams['mathtext.bf'] = 'Times New Roman:bold'\n",
    "\n",
    "mpl.rc('font',family='serif',size='16')\n",
    "fig = plt.figure(1,figsize=(7,5))\n",
    "#fig = plt.figure(1,figsize=(7, 5)) ## To save figure.\n",
    "\n",
    "tableau20 = [(31, 119, 180), (174, 199, 232), (255, 127, 14), (255, 187, 120),    \n",
    "             (44, 160, 44), (152, 223, 138), (214, 39, 40), (255, 152, 150),    \n",
    "             (148, 103, 189), (197, 176, 213), (140, 86, 75), (196, 156, 148),    \n",
    "             (227, 119, 194), (247, 182, 210), (127, 127, 127), (199, 199, 199),    \n",
    "             (188, 189, 34), (219, 219, 141), (23, 190, 207), (158, 218, 229)]    \n",
    "  \n",
    "# Scale the RGB values to the [0, 1] range, which is the format matplotlib accepts.    \n",
    "for i in range(len(tableau20)):    \n",
    "    r, g, b = tableau20[i]    \n",
    "    tableau20[i] = (r / 255., g / 255., b / 255.)   "
   ]
  },
  {
   "cell_type": "code",
   "execution_count": 5,
   "metadata": {},
   "outputs": [
    {
     "data": {
      "image/png": "[encoded data removed]",
      "text/plain": [
       "<Figure size 432x288 with 1 Axes>"
      ]
     },
     "metadata": {
      "needs_background": "light"
     },
     "output_type": "display_data"
    }
   ],
   "source": [
    "x = np.arange(0,2+0.01,0.01)\n",
    "HB = np.heaviside(x-1.0,0.5)\n",
    "HA = np.heaviside(1.0-x,0.5)\n",
    "\n",
    "plt.plot(x,HA,'-',lw=3)\n",
    "plt.plot(x,HB,'-',lw=3)\n",
    "plt.show()"
   ]
  },
  {
   "cell_type": "code",
   "execution_count": 8,
   "metadata": {},
   "outputs": [
    {
     "data": {
      "image/png": "[encoded data removed]",
      "text/plain": [
       "<Figure size 432x288 with 1 Axes>"
      ]
     },
     "metadata": {
      "needs_background": "light"
     },
     "output_type": "display_data"
    }
   ],
   "source": [
    "plt.plot(x,HA,'-',lw=3,label=r\"HA$(q(t))$\")\n",
    "plt.plot(x,HB,'-',lw=3,label=r\"HB$(q(t))$\")\n",
    "plt.xlabel('Reaction Coordinate')\n",
    "\n",
    "plt.xticks([0,1,2],['',r\"$q^{*}$\",''])\n",
    "plt.yticks([0,1],['0','1'])\n",
    "plt.legend(loc='best')\n",
    "figname = 'RC.png'\n",
    "plt.tight_layout()\n",
    "plt.savefig(figname,format='png',dpi=300)\n",
    "plt.show()"
   ]
  },
  {
   "cell_type": "code",
   "execution_count": 4,
   "metadata": {},
   "outputs": [
    {
     "data": {
      "text/plain": [
       "<Figure size 504x360 with 0 Axes>"
      ]
     },
     "metadata": {},
     "output_type": "display_data"
    }
   ],
   "source": [
    " "
   ]
  },
  {
   "cell_type": "code",
   "execution_count": null,
   "metadata": {},
   "outputs": [],
   "source": []
  }
 ],
 "metadata": {
  "kernelspec": {
   "display_name": "Python 3",
   "language": "python",
   "name": "python3"
  }
 },
 "nbformat": 4,
 "nbformat_minor": 4
}
