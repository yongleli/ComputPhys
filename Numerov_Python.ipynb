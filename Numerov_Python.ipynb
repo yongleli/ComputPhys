{
 "cells": [
  {
   "cell_type": "markdown",
   "metadata": {},
   "source": [
    "### Readme\n",
    "\n",
    "* Reduced units are used:\n",
    "* $\\begin{aligned} \\xi = \\big(\\frac{m K}{\\hbar^2}\\big)^{1/4}x \\end{aligned}$\n",
    "* \n",
    "* $\\begin{aligned} \\varepsilon = \\frac{E}{\\hbar\\omega} \\end{aligned}$\n",
    "* \n",
    "* xmax : $[0,x_{max}]$ the farest position to be integrated.\n",
    "* nodes: The number of nodes of wave function $\\psi(x)$.\n",
    "* mesh:  The number of integration grid, $N_{grid}$.\n",
    "\n",
    "* dx:    $\\delta{x}$\n",
    "* ddx12: $\\begin{aligned}\\frac{(\\delta x)^2}{12}\\end{aligned}$"
   ]
  },
  {
   "cell_type": "code",
   "execution_count": 1,
   "metadata": {},
   "outputs": [],
   "source": [
    "import numpy as np\n",
    "import sys,os"
   ]
  },
  {
   "cell_type": "code",
   "execution_count": 28,
   "metadata": {},
   "outputs": [
    {
     "name": "stdout",
     "output_type": "stream",
     "text": [
      "Bisection         Energy       Nodes  Discontinuity\n",
      "    1         2.531250000000000      3\n",
      "    2         1.265625000000000     1    -0.49189519\n",
      "    4         1.582031250000000     1     0.21633404\n",
      "    5         1.423828125000000     1    -0.17629715\n",
      "    6         1.502929687500000     1     0.00732755\n",
      "    7         1.463378906250000     1    -0.08922756\n",
      "    8         1.483154296875000     1    -0.04105557\n",
      "    9         1.493041992187500     1    -0.01696033\n",
      "   10         1.497985839843750     1    -0.00491170\n",
      "   11         1.500457763671875     1     0.00111269\n",
      "   12         1.499221801757812     1    -0.00189951\n",
      "   13         1.499839782714844     1    -0.00039341\n",
      "   14         1.500148773193359     1     0.00035964\n",
      "   15         1.499994277954102     1    -0.00001688\n",
      "   16         1.500071525573730     1     0.00017138\n",
      "   17         1.500032901763916     1     0.00007725\n",
      "   18         1.500013589859009     1     0.00003018\n",
      "   19         1.500003933906555     1     0.00000665\n",
      "   20         1.499999105930328     1    -0.00000512\n",
      "   21         1.500001519918442     1     0.00000077\n",
      "   22         1.500000312924385     1    -0.00000217\n",
      "   23         1.500000916421413     1    -0.00000070\n",
      "   24         1.500001218169928     1     0.00000003\n",
      "   25         1.500001067295671     1    -0.00000034\n",
      "   26         1.500001142732799     1    -0.00000015\n",
      "   27         1.500001180451363     1    -0.00000006\n",
      "   28         1.500001199310645     1    -0.00000001\n",
      "   29         1.500001208740287     1     0.00000001\n",
      "   30         1.500001204025466     1    -0.00000000\n",
      "   31         1.500001206382876     1     0.00000000\n",
      "   32         1.500001205204171     1     0.00000000\n",
      "   33         1.500001204614819     1    -0.00000000\n",
      "   34         1.500001204909495     1     0.00000000\n",
      "   35         1.500001204762157     1    -0.00000000\n",
      "   36         1.500001204835826     1     0.00000000\n"
     ]
    }
   ],
   "source": [
    "\n",
    "\n",
    "### Reduced units are used.\n",
    "### x = (mK/hbar^2)^(1/4) X\n",
    "### e = E/(hbar omega)\n",
    "\n",
    "xmax  = 4.5\n",
    "nodes = 1\n",
    "mesh  = 200\n",
    "eps   = 1.0E-10\n",
    "fileout = 'output.dat'\n",
    "\n",
    "x    = np.zeros((mesh+1))\n",
    "y    = np.zeros((mesh+1))\n",
    "p    = np.zeros((mesh+1))\n",
    "vpot = np.zeros((mesh+1))\n",
    "f    = np.zeros((mesh+1))\n",
    "\n",
    "dx   =  xmax/mesh \n",
    "ddx12=dx*dx/12.0E0\n",
    "\n",
    "for i in range(mesh+1): ### i runs from 0 to mesh\n",
    "    x[i]    = np.float(i)*dx\n",
    "    ### Generate the potential energy on all grids at once:\n",
    "    vpot[i] = 0.5E0*x[i]**2 \n",
    "\n",
    "if (fileout != ''):\n",
    "    ff = open(fileout,'w')\n",
    "\n",
    "if nodes<0 :\n",
    "    print (\"noes must be larger than 0!\")\n",
    "    sys.exit()\n",
    "\n",
    "eup = np.max(vpot)\n",
    "elw = np.min(vpot)\n",
    "\n",
    "e   = 0.0E0\n",
    "\n",
    "if ( np.abs(e) < eps):\n",
    "    e      = 0.5E0*(elw+eup)\n",
    "    n_iter = 1000\n",
    "else:\n",
    "    n_iter = 1 ### test a single energy value\n",
    "    \n",
    "for kkk in range(n_iter):\n",
    "    f[0] = ddx12*(2.0E0*(vpot[0]-e)) \n",
    "    icl = -1\n",
    "    for i in range(1, mesh+1):\n",
    "        f[i] = ddx12*2.0E0*(vpot[i]-e)\n",
    "        if np.abs(f[i])< 1.0E-20:\n",
    "            f[i] = 1.0E-20\n",
    "        if (i>1) and np.sign(f[i])!= np.sign(f[i-1]): ### Measuring the sign changing of the wave function.\n",
    "            ### This means the potential energy becomes larger than total energy.\n",
    "            icl = i\n",
    "    ### End do i\n",
    "    if (icl>= mesh -2 ):\n",
    "        print(\"Last change of sign too far\")\n",
    "        sys.exit()\n",
    "    elif (icl<1):\n",
    "        print(\"No classical turning point?\")\n",
    "        sys.exit()\n",
    "    f = np.subtract(1.0E0,f) ## fn(x) = 1+2(e-V(x))(dx)^2/12\n",
    "    hnodes = np.int(nodes/2)\n",
    "    if nodes%2 == 0:\n",
    "        y[0]   = 1.0E0\n",
    "        y[1]   = 0.5E0*(12.0E0-10.0E0*f[0])*y[0]/f[1]\n",
    "    else:\n",
    "        y[0]   = 0.0E0\n",
    "        y[1]   = dx ## Theoretically, y_1 can be an arbitary small number.\n",
    "    ### End if here\n",
    "    \n",
    "    ### Outward integration, and count the number of crossings.\n",
    "    ncross = 0\n",
    "    for i in range(1, icl,1):\n",
    "        y[i+1]=((12.0E0-10.0E0*f[i])*y[i] - f[i-1]*y[i-1])/f[i+1]\n",
    "        if np.sign(y[i]) != np.sign(y[i+1]):\n",
    "            ncross += 1\n",
    "    fac = y[icl]\n",
    "    \n",
    "    ### Here the forward integration is finished. One can output it.\n",
    "    \n",
    "    ###\n",
    "    \n",
    "    if (nodes%2==0):\n",
    "        ## Even nodes: no node in x=0\n",
    "        ncross = 2*ncross\n",
    "    else:\n",
    "        ## Odd nodes: node in x=0\n",
    "        ncross = 2*ncross + 1\n",
    "    \n",
    "    ### Check the number of crossings.\n",
    "    \n",
    "    if (n_iter > 1):\n",
    "        if (ncross != nodes):\n",
    "            ### Incorect number of crossings: adjust energy\n",
    "            if (kkk == 1):\n",
    "                print (\"Bisection         Energy       Nodes  Discontinuity\")\n",
    "                print (\"%5d %25.15f  %5d\" % (kkk, e, ncross))\n",
    "            if (ncross > nodes):\n",
    "                eup = e\n",
    "            else:\n",
    "                elw = e\n",
    "            e = 0.5E0*(eup+elw)\n",
    "            continue\n",
    "        ### end if (ncross != nodes)\n",
    "    else:\n",
    "        print(\"%12.6f %5d %5d\" % (e, ncross, nodes))\n",
    "    ### End if (n_iter > 1)\n",
    "    ###\n",
    "    ### Correct number of crossings: backward integration.\n",
    "    ###\n",
    "    y[mesh] = dx\n",
    "    y[mesh-1] = (12.0E0-10.0E0*f[mesh])*y[mesh]/f[mesh-1]\n",
    "    for i in range(mesh-1,icl,-1):\n",
    "        y[i-1]= ((12.0E0-10.0E0*f[i])*y[i]-f[i+1]*y[i+1])/f[i-1]\n",
    "    ###\n",
    "    ### Rescale function to match at the classical turning point.\n",
    "    ###\n",
    "    fac = fac/y[icl]\n",
    "    y[icl:] = y[icl:]*fac\n",
    "    ### \n",
    "    ### Normalize on the [-xmax, xmax] segment\n",
    "    ### The x = 0 point must be conted once\n",
    "    ###\n",
    "    norm = (2.0E0*np.dot(y,y)- y[0]*y[0]) * dx\n",
    "    y = y/ np.sqrt(norm)\n",
    "\n",
    "    if (n_iter > 1):\n",
    "        djump = (y[icl+1] +y[icl-1] - (14.0E0-12.0E0*f[icl])*y[icl])/dx\n",
    "    print('%5d %25.15f %5d %14.8f' % (kkk, e, nodes, djump))\n",
    "    if (djump*y[icl] > 0.0E0):\n",
    "        eup = e\n",
    "    else:\n",
    "        elw = e\n",
    "    e = 0.5E0 *(eup + elw)\n",
    "    if (eup - elw < 1.0E-10):\n",
    "        break\n",
    "### End the iteration.\n",
    "### Calculation of the classical probability density for e:\n",
    "### P = \\sum_k m / |p_k| \n",
    "### H(q, p_k) = e\n",
    "### p_k = \\sqrt{ 2m (e - V)}\n",
    "###\n",
    "norm = 0.0E0\n",
    "for i in range(icl+1):\n",
    "    arg = (e- x[i]**2/2.0E0)\n",
    "    if (arg > 0.0E0):\n",
    "        p[i] = 1.0E0/np.sqrt(arg)\n",
    "    else:\n",
    "        p[i] = 0.0E0\n",
    "    norm = norm + 2.0E0 *dx*p[i]\n",
    "### End for\n",
    "norm = norm - dx*p[i]\n",
    "p[:icl] = p[:icl]/norm\n",
    "ff.write(\"#   x       y(x)         y(x)^2         classical p(x)      V\\n\")\n",
    "### x<0 region\n",
    "for i in range(mesh, 0, -1): ### i runs over [mesh,1]\n",
    "    line_str = \"{:7.3f}{:16.8e}{:16.8e}{:16.8e}{:12.6f}\\n\".format(-x[i],(-1)**nodes*y[i],y[i]**2,p[i],vpot[i])\n",
    "    ff.write(line_str)\n",
    "### x>0 region\n",
    "for i in range(0,mesh+1,1):\n",
    "    line_str = \"{:7.3f}{:16.8e}{:16.8e}{:16.8e}{:12.6f}\\n\".format(x[i],y[i],y[i]**2,p[i],vpot[i])\n",
    "    ff.write(line_str)  \n",
    "ff.write('\\n')\n",
    "ff.close()"
   ]
  },
  {
   "cell_type": "code",
   "execution_count": 29,
   "metadata": {},
   "outputs": [
    {
     "name": "stdout",
     "output_type": "stream",
     "text": [
      "(401, 5)\n"
     ]
    }
   ],
   "source": [
    "a = np.genfromtxt('output.dat')\n",
    "print(np.shape(a))"
   ]
  },
  {
   "cell_type": "code",
   "execution_count": 31,
   "metadata": {},
   "outputs": [],
   "source": [
    "%matplotlib inline\n",
    "import matplotlib.pyplot as plt\n"
   ]
  },
  {
   "cell_type": "code",
   "execution_count": 32,
   "metadata": {},
   "outputs": [
    {
     "data": {
      "image/png": "[encoded data removed]",
      "text/plain": [
       "<Figure size 432x288 with 1 Axes>"
      ]
     },
     "metadata": {
      "needs_background": "light"
     },
     "output_type": "display_data"
    }
   ],
   "source": [
    "plt.plot(a[:,0],a[:,1],'-')\n",
    "plt.show()"
   ]
  },
  {
   "cell_type": "code",
   "execution_count": 33,
   "metadata": {},
   "outputs": [
    {
     "data": {
      "image/png": "[encoded data removed]",
      "text/plain": [
       "<Figure size 432x288 with 1 Axes>"
      ]
     },
     "metadata": {
      "needs_background": "light"
     },
     "output_type": "display_data"
    }
   ],
   "source": [
    "plt.plot(a[:,0],a[:,2],'-')\n",
    "plt.plot(a[:,0],a[:,3],'-')\n",
    "plt.show()"
   ]
  },
  {
   "cell_type": "markdown",
   "metadata": {},
   "source": [
    "## Bellow are tests."
   ]
  },
  {
   "cell_type": "code",
   "execution_count": 2,
   "metadata": {},
   "outputs": [
    {
     "data": {
      "text/plain": [
       "array([ 1., -1.])"
      ]
     },
     "execution_count": 2,
     "metadata": {},
     "output_type": "execute_result"
    }
   ],
   "source": [
    "np.sign((1.0,-1.0))"
   ]
  },
  {
   "cell_type": "code",
   "execution_count": 5,
   "metadata": {},
   "outputs": [
    {
     "name": "stdout",
     "output_type": "stream",
     "text": [
      "1.0\n",
      "-1.0\n"
     ]
    }
   ],
   "source": [
    "print(np.sign(4.0))\n",
    "print(np.sign(-5.0))\n"
   ]
  },
  {
   "cell_type": "code",
   "execution_count": 9,
   "metadata": {},
   "outputs": [
    {
     "name": "stdout",
     "output_type": "stream",
     "text": [
      "1\n"
     ]
    }
   ],
   "source": [
    "print(np.int(3/2))"
   ]
  },
  {
   "cell_type": "code",
   "execution_count": 11,
   "metadata": {},
   "outputs": [
    {
     "name": "stdout",
     "output_type": "stream",
     "text": [
      "    0\n",
      "    1\n",
      "    2\n",
      "    3\n",
      "    4\n",
      "    6\n",
      "    7\n",
      "    8\n",
      "    9\n"
     ]
    }
   ],
   "source": [
    "for i in range(10):\n",
    "    if i==5:\n",
    "        continue\n",
    "    print(\"%5d\" % (i))\n",
    "    "
   ]
  },
  {
   "cell_type": "code",
   "execution_count": 16,
   "metadata": {},
   "outputs": [
    {
     "name": "stdout",
     "output_type": "stream",
     "text": [
      "   1.200  1.00000000e+05\n",
      "\n",
      "END\n"
     ]
    }
   ],
   "source": [
    "line_str = '{:8.3f}{:16.8e}\\n'.format(1.2,1.0E+5)\n",
    "print (line_str)\n",
    "print (\"END\")"
   ]
  },
  {
   "cell_type": "code",
   "execution_count": null,
   "metadata": {},
   "outputs": [],
   "source": []
  }
 ],
 "metadata": {
  "kernelspec": {
   "display_name": "Python 3",
   "language": "python",
   "name": "python3"
  },
  "language_info": {
   "codemirror_mode": {
    "name": "ipython",
    "version": 3
   },
   "file_extension": ".py",
   "mimetype": "text/x-python",
   "name": "python",
   "nbconvert_exporter": "python",
   "pygments_lexer": "ipython3",
   "version": "3.7.3"
  }
 },
 "nbformat": 4,
 "nbformat_minor": 2
}
