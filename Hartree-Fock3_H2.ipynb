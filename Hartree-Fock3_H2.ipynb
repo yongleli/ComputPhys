{
 "cells": [
  {
   "cell_type": "code",
   "execution_count": 1,
   "id": "passing-malaysia",
   "metadata": {},
   "outputs": [
    {
     "data": {
      "text/plain": [
       "<Figure size 504x360 with 0 Axes>"
      ]
     },
     "metadata": {},
     "output_type": "display_data"
    }
   ],
   "source": [
    "import numpy as np\n",
    "%matplotlib inline\n",
    "import matplotlib.pyplot as plt\n",
    "import matplotlib as mpl\n",
    "mpl.rcParams['mathtext.fontset'] = 'custom'\n",
    "mpl.rcParams['mathtext.rm'] = 'Times New Roman'\n",
    "mpl.rcParams['mathtext.it'] = 'Times New Roman:italic'\n",
    "mpl.rcParams['mathtext.bf'] = 'Times New Roman:bold'\n",
    "\n",
    "mpl.rc('font',family='serif',size='16')\n",
    "fig = plt.figure(1,figsize=(7,5))\n",
    "#fig = plt.figure(1,figsize=(7, 5)) ## To save figure.\n",
    "\n",
    "tableau20 = [(31, 119, 180), (174, 199, 232), (255, 127, 14), (255, 187, 120),    \n",
    "             (44, 160, 44), (152, 223, 138), (214, 39, 40), (255, 152, 150),    \n",
    "             (148, 103, 189), (197, 176, 213), (140, 86, 75), (196, 156, 148),    \n",
    "             (227, 119, 194), (247, 182, 210), (127, 127, 127), (199, 199, 199),    \n",
    "             (188, 189, 34), (219, 219, 141), (23, 190, 207), (158, 218, 229)]    \n",
    "  \n",
    "# Scale the RGB values to the [0, 1] range, which is the format matplotlib accepts.    \n",
    "for i in range(len(tableau20)):    \n",
    "    r, g, b = tableau20[i]    \n",
    "    tableau20[i] = (r / 255., g / 255., b / 255.) "
   ]
  },
  {
   "cell_type": "code",
   "execution_count": 2,
   "id": "nominated-piano",
   "metadata": {},
   "outputs": [],
   "source": [
    "from scipy import special\n",
    "import copy"
   ]
  },
  {
   "cell_type": "code",
   "execution_count": 3,
   "id": "cosmetic-moment",
   "metadata": {},
   "outputs": [],
   "source": [
    "def calc_S(Alpha, N_tot,Dist):\n",
    "    SMatrix = np.zeros((N_tot,N_tot))\n",
    "    PI = np.pi\n",
    "    N  = np.int(N_tot/2)\n",
    "    for r in range(N):\n",
    "        for s in range(N):\n",
    "            A = Alpha[r]\n",
    "            B = Alpha[s]\n",
    "            f1 = PI/(A+B)\n",
    "            Part1 = f1*np.sqrt(f1)\n",
    "            SMatrix[r,s] = Part1\n",
    "    for r in range(N,N_tot):\n",
    "        for s in range(N):\n",
    "            A = Alpha[r]\n",
    "            B = Alpha[s]\n",
    "            f1 = PI/(A+B)\n",
    "            Part1 = f1*np.sqrt(f1)\n",
    "            Part2 = np.exp(-A*B*Dist*Dist/(A+B))\n",
    "            SMatrix[r,s] = Part1*Part2\n",
    "    for r in range(N):\n",
    "        for s in range(N,N_tot):\n",
    "            A = Alpha[r]\n",
    "            B = Alpha[s]\n",
    "            f1 = PI/(A+B)\n",
    "            Part1 = f1*np.sqrt(f1)\n",
    "            Part2 = np.exp(-A*B*Dist*Dist/(A+B))\n",
    "            SMatrix[r,s] = Part1*Part2\n",
    "    for r in range(N,N_tot):\n",
    "        for s in range(N,N_tot):\n",
    "            A = Alpha[r]\n",
    "            B = Alpha[s]\n",
    "            f1 = PI/(A+B)\n",
    "            Part1 = f1*np.sqrt(f1)\n",
    "            SMatrix[r,s] = Part1\n",
    "\n",
    "    return SMatrix\n",
    "\n",
    "def BuildH(Alpha,N_tot,Dist,SMatrix,F):\n",
    "    PI = np.pi\n",
    "    N = 4\n",
    "    HMatrix = np.zeros((N_tot,N_tot))\n",
    "    for R in range(N):\n",
    "        for S in range(R):\n",
    "            A = Alpha[R]\n",
    "            B = Alpha[S]\n",
    "            ### CalcKinet11 and Kinet12\n",
    "            Kinet11, Kinet12 = Kinet(A, B, SMatrix[R+N, S],Dist)\n",
    "            ### Calc Coul11 and Coul12\n",
    "            Coul11, Coul12   = Coul(A, B, SMatrix[R+N, S],Dist,F)\n",
    "            \n",
    "            HMatrix[R,S]     = Kinet11+Coul11\n",
    "            HMatrix[R+N,S+N] = HMatrix[R,S]\n",
    "            HMatrix[R+N,S]   = Kinet12+Coul12\n",
    "            HMatrix[S+N,R]   = HMatrix[R+N,S]\n",
    "            \n",
    "            HMatrix[S,R]     = HMatrix[R,S]\n",
    "            HMatrix[S+N,R+N] = HMatrix[R+N,S+N]\n",
    "            HMatrix[S,R+N]   = HMatrix[R+N,S]\n",
    "            HMatrix[R,S+N]   = HMatrix[S+N,R]\n",
    "            \n",
    "        A = Alpha[R]\n",
    "        B = A\n",
    "        ### CalcKinet11 and Kinet12\n",
    "        Kinet11, Kinet12 = Kinet(A, B, SMatrix[R+N, R],Dist)\n",
    "        ### Calc Coul11 and Coul12\n",
    "        Coul11, Coul12   = Coul(A, B, SMatrix[R+N, R],Dist,F)\n",
    "\n",
    "        HMatrix[R,R] = Kinet11+Coul11\n",
    "        HMatrix[R+N,R+N] = HMatrix[R,R]\n",
    "        HMatrix[R+N,R] = Kinet12+Coul12\n",
    "        \n",
    "        HMatrix[R,R+N] = HMatrix[R+N,R]\n",
    "\n",
    "    return HMatrix\n",
    "                                 \n",
    "def Kinet (A, B, SElem,Dist):\n",
    "    PI = np.pi\n",
    "    K0 = A*B/(A+B)\n",
    "    Kinet11 = 3*K0*(PI/(A+B))**1.5E0\n",
    "    Kinet12 = K0*(3-2*K0*Dist*Dist)*SElem\n",
    "    return Kinet11, Kinet12\n",
    "\n",
    "def Coul (A, B, SElem, Dist,F):\n",
    "    PI = np.pi\n",
    "    K0 = PI/(A+B)\n",
    "    t = (A+B)*Dist*Dist\n",
    "    Coul11 = -2*K0*(1+F(t))\n",
    "\n",
    "    K1 = SElem/np.sqrt(K0)\n",
    "    t1 = A*A*Dist*Dist/(A+B)\n",
    "    t2 = B*B*Dist*Dist/(A+B)\n",
    "    Coul12 = -2*K1*(F(t1)+F(t2))\n",
    "    return Coul11, Coul12\n",
    "\n",
    "def F(x):\n",
    "    eps = 1.0E-10\n",
    "    FFac=0.88622693E0\n",
    "    \n",
    "    if (np.abs(x)<eps):\n",
    "        F = 1.0E0\n",
    "    else:\n",
    "        F = FFac*special.erf(np.sqrt(x))/np.sqrt(x)\n",
    "    return F\n",
    "\n",
    "def BuildD(SMatrix,N_tot,C):\n",
    "    DensMat = np.zeros((N_tot, N_tot))\n",
    "    Norm = 0.0E0\n",
    "    for R in range(N_tot):\n",
    "        for S in range(R):\n",
    "            DensMat[R, S] = 2.0E0*C[R]*C[S]\n",
    "            Norm = Norm + DensMat[R,S]*SMatrix[R,S]\n",
    "\n",
    "        DensMat[R,R] = 2.0E0*C[R]*C[R]\n",
    "        Norm = Norm + 0.50E0*DensMat[R,R]*SMatrix[R,R]\n",
    "\n",
    "    Norm = 1.0E0/Norm\n",
    "    for R in range(N_tot):\n",
    "        for S in range(R+1):\n",
    "            DensMat[R,S] = DensMat[R,S]*Norm\n",
    "            DensMat[S,R] = DensMat[R,S]\n",
    "            \n",
    "    return DensMat\n",
    "\n",
    "\n",
    "\n",
    "def BuildG(N_tot,DensMat0,QMatrix):\n",
    "    DensMat = copy.deepcopy(DensMat0)\n",
    "    GMatrix = np.zeros((N_tot, N_tot))\n",
    "\n",
    "    for R in range(N_tot):\n",
    "        for S in range(R+1):\n",
    "            GMatrix[R,S] = 0.0E0\n",
    "            for T in range(N_tot):\n",
    "                for U in range(T):\n",
    "                    GMatrix[R, S] = GMatrix[R,S] + DensMat[T,U]*(QMatrix[R,S,T,U])\n",
    "                GMatrix[R, S] = GMatrix[R,S] +   0.5E0*DensMat[T,T]*QMatrix[R,S,T,T]\n",
    "    for R in range(N_tot):\n",
    "        for S in range(R+1):\n",
    "            GMatrix[S,R] = GMatrix[R,S]\n",
    "\n",
    "    return GMatrix\n",
    "\n",
    "def CalcFockMatrix(HMatrix,GMatrix,N_tot):\n",
    "    FMatrix=np.zeros((N_tot,N_tot))\n",
    "    for R in range(N_tot):\n",
    "        # for S in range(R+1):\n",
    "        for S in range(N_tot):\n",
    "            FMatrix[R,S] = HMatrix[R,S] + GMatrix[R,S]\n",
    "        # FMatrix[S,R] = FMatrix[R,S]\n",
    "    return FMatrix\n",
    "\n",
    "def BuildQ(N_tot,Dist,SMatrix,F):\n",
    "    PI = np.pi\n",
    "    QMatrix = np.zeros((N_tot,N_tot,N_tot,N_tot))\n",
    "    for R in range(N_tot):\n",
    "        for S in range(R+1):\n",
    "            for T in range(R+1):\n",
    "                if (T < R):\n",
    "                    MaxU = T + 1\n",
    "                else:\n",
    "                    MaxU = S + 1\n",
    "                for U in range(MaxU):\n",
    "                    A = Alpha[R]\n",
    "                    B = Alpha[S]\n",
    "                    CC = Alpha[T]\n",
    "                    D = Alpha[U]\n",
    "                    P1 = A+B\n",
    "                    P2 = CC+D\n",
    "                    P3 = P1+P2\n",
    "                    P = ((2*(np.int((R)/4))-1)*A +(2*(np.int((S)/4))-1)*B)/(A+B)*Dist/2\n",
    "                    Q = ((2*(np.int((T)/4))-1)*CC+(2*(np.int((U)/4))-1)*D)/(CC+D)*Dist/2\n",
    "                    #print (\"%4d %4d %4d %4d %8.3f %8.3f\" % (R,S,T,U,P,Q))\n",
    "                    tt = (P1*P2/P3)*(P-Q)**2\n",
    "                    Lambda = 2*np.sqrt(P1*P2/(PI*P3))\n",
    "                    G = F(tt)\n",
    "                    MatElem = SMatrix[R,S]*SMatrix[T,U]*Lambda*G\n",
    "                    QMatrix[R,S,T,U] = MatElem\n",
    "                    QMatrix[R,S,U,T] = MatElem\n",
    "                    QMatrix[T,U,R,S] = MatElem\n",
    "                    QMatrix[T,U,S,R] = MatElem\n",
    "    return QMatrix"
   ]
  },
  {
   "cell_type": "code",
   "execution_count": null,
   "id": "limiting-tiffany",
   "metadata": {},
   "outputs": [],
   "source": []
  },
  {
   "cell_type": "markdown",
   "id": "concrete-tourist",
   "metadata": {},
   "source": [
    "$$\\begin{aligned}\n",
    "\\boldsymbol{\\rm{P}}_{pq} & = \\frac{2CC^{\\rm{T}}}{C^{\\rm{T}}\\boldsymbol{S}C} \\\\\n",
    "\\boldsymbol{\\rm{F}}_{pq} & = \\boldsymbol{\\rm{H}}_{pq} + \\boldsymbol{\\rm{G}}_{pq} = \\boldsymbol{\\rm{H}}_{pq}+\\sum_{rs}\\boldsymbol{\\rm{P}}_{rs}(\\boldsymbol{\\rm{Q}}_{prqs}-\\frac{1}{2}\\boldsymbol{\\rm{Q}}_{prsq}) \\\\\n",
    "E & = \\sum_{p,q}\\boldsymbol{\\rm{P}}_{pq}\\left[\\boldsymbol{\\rm{H}}_{pq}+\\frac{1}{2}\\boldsymbol{\\rm{G}}_{pq} \\right] = \\sum_{p,q}\\boldsymbol{\\rm{P}}_{pq}\\left[\\frac{1}{2} \\boldsymbol{\\rm{H}}_{pq}+\\frac{1}{2}(\\boldsymbol{\\rm{H}}_{pq}+\\boldsymbol{\\rm{G}}_{pq}) \\right] \\\\\n",
    "& = \\frac{1}{2} \\sum_{p,q} \\boldsymbol{\\rm{P}}_{pq}\\left[\n",
    "\\boldsymbol{\\rm{H}}_{pq} + \\boldsymbol{\\rm{F}}_{pq} \n",
    "\\right] \\\\\n",
    "\\end{aligned}$$"
   ]
  },
  {
   "cell_type": "code",
   "execution_count": 4,
   "id": "parliamentary-maple",
   "metadata": {},
   "outputs": [],
   "source": [
    "def DiagFock(S,N_tot,Fock,D,V,Vd,i_fact,Dist,H):\n",
    "\n",
    "    tmp = np.dot(Fock,V) \n",
    "    H_prime = np.dot(Vd,tmp)\n",
    "\n",
    "    EE, C_prime = np.linalg.eigh(H_prime)\n",
    "\n",
    "    C = np.dot(V,C_prime)\n",
    "    C_use = copy.deepcopy(C[:,0])\n",
    "    D_new = BuildD(S, N_tot, C_use) \n",
    "\n",
    "    Ener = 0.0E0\n",
    "    for i in range(N_tot):\n",
    "        for j in range(i):\n",
    "            Ener += D_new[i,j]*(H[i,j]+Fock[i,j])\n",
    "        Ener += 0.5*D_new[i,i]*(H[i,i]+Fock[i,i])\n",
    "    \n",
    "    return Ener, D_new"
   ]
  },
  {
   "cell_type": "code",
   "execution_count": 5,
   "id": "entertaining-reservoir",
   "metadata": {},
   "outputs": [],
   "source": [
    "import sys,os"
   ]
  },
  {
   "cell_type": "code",
   "execution_count": 32,
   "id": "typical-repository",
   "metadata": {
    "scrolled": true
   },
   "outputs": [
    {
     "name": "stdout",
     "output_type": "stream",
     "text": [
      "17 -2.355516496138058 6.131470598337666e-10\n",
      "17 -2.338460436080273 5.817392719751445e-10\n",
      "17 -2.321597349501733 5.510967115736439e-10\n",
      "17 -2.304929255049326 5.211673982485147e-10\n",
      "17 -2.288457605881427 4.919366586956979e-10\n",
      "17 -2.272183400963529 4.633993212786904e-10\n",
      "17 -2.2561072674913922 4.3558237976866314e-10\n",
      "17 -2.2402295217167896 4.085238107824251e-10\n",
      "17 -2.2245502144864413 3.8227149649948045e-10\n",
      "17 -2.20906916640997 3.568792601133817e-10\n",
      "17 -2.193785996130822 3.3241043570458517e-10\n",
      "17 -2.178700143912705 3.089146555837947e-10\n",
      "17 -2.163810891779091 2.864487328574864e-10\n",
      "16 -2.149117380071015 9.79382338551456e-10\n",
      "16 -2.134618624874097 9.077052269217713e-10\n",
      "16 -2.120313525512058 8.397805417326568e-10\n",
      "16 -2.1062008766905995 7.756674790369364e-10\n",
      "16 -2.0922793743002446 7.153869409204358e-10\n",
      "16 -2.0785476195744383 6.589226712021402e-10\n",
      "16 -2.0650041211953 6.062263325186019e-10\n",
      "16 -2.0516472958081415 5.572129037984431e-10\n",
      "16 -2.038475467477863 5.117732987063367e-10\n",
      "16 -2.0254868666456187 4.69772496138052e-10\n",
      "16 -2.012679629123831 4.3105725922868846e-10\n",
      "16 -2.000051795608496 3.954613729891812e-10\n",
      "16 -1.9876013120999723 3.628049284594083e-10\n",
      "16 -1.9753260315184873 3.329051461925733e-10\n",
      "16 -1.9632237166893591 3.0557524300144066e-10\n",
      "16 -1.9512920447651974 2.8063170738144796e-10\n",
      "16 -1.9395286130553058 2.578884964623127e-10\n",
      "15 -1.9279309468585146 9.394277322847063e-10\n",
      "15 -1.916496504831626 8.682674701316149e-10\n",
      "15 -1.9052226925471771 8.032428158706145e-10\n",
      "15 -1.894106869320008 7.438337246247577e-10\n",
      "15 -1.8831463592054725 6.895480699534605e-10\n",
      "15 -1.872338461403788 6.399257550261872e-10\n",
      "15 -1.8616804606053479 5.945401853296487e-10\n",
      "15 -1.851169637071795 5.529960654947964e-10\n",
      "15 -1.8408032762764472 5.149303063511429e-10\n",
      "15 -1.8305786779590223 4.800091406449601e-10\n",
      "15 -1.8204931644816331 4.479302510793734e-10\n",
      "15 -1.810544088404202 4.184155857803529e-10\n",
      "15 -1.800728839226447 3.9121805109135203e-10\n",
      "15 -1.7910448492698587 3.661110061497842e-10\n",
      "15 -1.7814895986960024 3.428905267397874e-10\n",
      "15 -1.7720606196767912 3.2137502248926085e-10\n",
      "15 -1.762755499748283 3.0140081519247735e-10\n",
      "15 -1.7535718843919033 2.828224620691161e-10\n",
      "15 -1.7445074788962651 2.6550982408981816e-10\n",
      "15 -1.735560049559149 2.493462709923289e-10\n",
      "14 -1.7267274235491552 9.979907759915046e-10\n",
      "14 -1.7180074920010049 9.40846967691934e-10\n",
      "14 -1.709398205021675 8.870654856498015e-10\n",
      "14 -1.7008975740132226 8.363774210497621e-10\n",
      "14 -1.692503669745021 7.88545618472508e-10\n",
      "14 -1.6842146209342754 7.433549759194793e-10\n",
      "14 -1.6760286125962927 7.006219026184382e-10\n",
      "14 -1.6679438842137164 6.601799564135e-10\n",
      "14 -1.65995872776931 6.218782484339499e-10\n",
      "14 -1.6520714856822125 5.855934829643304e-10\n",
      "14 -1.644280548683076 5.512065414471078e-10\n",
      "14 -1.6365843536589701 5.18616262744327e-10\n",
      "14 -1.6289813814948004 4.877260658783324e-10\n",
      "14 -1.6214701549339983 4.584515422198155e-10\n",
      "14 -1.6140492364775856 4.307146754091938e-10\n",
      "14 -1.606717226337371 4.044501749152346e-10\n",
      "14 -1.5994727604559997 3.7958584925483683e-10\n",
      "14 -1.592314508603788 3.5606413209533524e-10\n",
      "14 -1.5852411725599496 3.3383164832477354e-10\n",
      "14 -1.578251484383569 3.12828852069156e-10\n",
      "14 -1.5713442047778499 2.93001657049998e-10\n",
      "14 -1.564518121549561 2.7430203037008735e-10\n",
      "14 -1.5577720481641735 2.5668672732525517e-10\n",
      "14 -1.5511048223960533 2.4010287178949735e-10\n",
      "14 -1.5445153050720326 2.2450561967900583e-10\n",
      "13 -1.5380023795371538 9.82868335156291e-10\n",
      "13 -1.5315649480092217 9.223555370774226e-10\n",
      "13 -1.5252019345046206 8.65363549326779e-10\n",
      "13 -1.5189122812656153 8.117451219114422e-10\n",
      "13 -1.512694948600555 7.613428642882756e-10\n",
      "13 -1.5065489141185289 7.140059802784816e-10\n",
      "13 -1.5004731720311137 6.695869546166535e-10\n",
      "13 -1.4944667325166876 6.279365543573229e-10\n",
      "13 -1.488528621142791 5.889149240960323e-10\n",
      "13 -1.48265787834213 5.523976692298673e-10\n",
      "13 -1.4768535589378542 5.182317971737083e-10\n",
      "13 -1.471114731714095 4.862963305140839e-10\n",
      "13 -1.4654404790276436 4.564646438760229e-10\n",
      "13 -1.459829896457119 4.286149419217024e-10\n",
      "13 -1.4542820924860218 4.0263082722412017e-10\n",
      "13 -1.4487961882163463 3.7839968667100524e-10\n",
      "13 -1.443371317109648 3.5581493044908936e-10\n",
      "13 -1.4380066247526655 3.3477430422485057e-10\n",
      "13 -1.4327012686448415 3.1518008559974695e-10\n",
      "13 -1.4274544180052695 2.9693882805909356e-10\n",
      "13 -1.4222652535968343 2.799633526564405e-10\n",
      "13 -1.4171329675654745 2.641707283851994e-10\n",
      "13 -1.4120567632927088 2.4948192027530884e-10\n",
      "13 -1.4070358552597304 2.3582242879449317e-10\n",
      "13 -1.4020694689215465 2.2312304508128564e-10\n",
      "13 -1.397156840589765 2.1131806055924163e-10\n",
      "13 -1.3922972173228123 2.0034598650391627e-10\n",
      "12 -1.387489856291995 9.925659177136701e-10\n",
      "12 -1.382734026833096 9.461412790596639e-10\n",
      "12 -1.3780290070841672 9.028488009729387e-10\n",
      "12 -1.373374086105155 8.624835193784705e-10\n",
      "12 -1.3687685632302382 8.248517337364543e-10\n",
      "12 -1.364211747982998 7.89773353150354e-10\n",
      "12 -1.3597029599933712 7.570804351324947e-10\n",
      "12 -1.3552415289158666 7.266145770935442e-10\n",
      "12 -1.350826794348639 6.982297764310669e-10\n",
      "12 -1.3464581057530285 6.717886904589721e-10\n",
      "12 -1.3421348223732479 6.471637238642466e-10\n",
      "12 -1.3378563131559038 6.242359713408774e-10\n",
      "12 -1.333621956669125 6.028964495294382e-10\n",
      "12 -1.3294311410210655 5.830411058962369e-10\n",
      "12 -1.3252832637775975 5.64574653745355e-10\n",
      "12 -1.3211777318790356 5.474105515418269e-10\n",
      "12 -1.3171139615557614 5.31464519078944e-10\n",
      "12 -1.3130913782426266 5.166619082514244e-10\n",
      "12 -1.3091094164920714 5.029320369675389e-10\n",
      "12 -1.3051675198858521 4.902095587456371e-10\n",
      "12 -1.301265140945359 4.78433658174722e-10\n",
      "12 -1.297401741040476 4.67549124380241e-10\n",
      "12 -1.2935767902969535 4.5750358330368383e-10\n",
      "12 -1.289789767502312 4.482497829900671e-10\n",
      "12 -1.2860401600102571 4.397434079506308e-10\n",
      "12 -1.282327463643645 4.3194290219668043e-10\n",
      "12 -1.2786511825960172 4.2481061055751703e-10\n",
      "12 -1.2750108293317408 4.183134930485953e-10\n",
      "12 -1.2714059244848206 4.124160555190967e-10\n",
      "12 -1.2678359967564115 4.0709234732307667e-10\n",
      "12 -1.264300582811116 4.0231179304734247e-10\n",
      "12 -1.2607992271721242 3.980510193013945e-10\n",
      "12 -1.2573314821152783 3.9428818014459024e-10\n",
      "12 -1.2538969075621325 3.909936669890773e-10\n",
      "12 -1.2504950709720992 3.881581824395704e-10\n",
      "12 -1.2471255472337648 3.857658734148507e-10\n",
      "12 -1.2437879185554608 3.8378515221559e-10\n",
      "12 -1.2404817743551935 3.8221559657475276e-10\n",
      "12 -1.2372067111500067 3.8103407695897186e-10\n",
      "12 -1.2339623324448956 3.8029201658459275e-10\n",
      "12 -1.2307482486213381 3.8003318841423e-10\n",
      "12 -1.2275640768255704 3.7976543166826823e-10\n",
      "12 -1.2244094408566712 3.8037130673578984e-10\n",
      "12 -1.2212839710545722 3.805803133249455e-10\n",
      "12 -1.2181873041880715 3.8150457343212944e-10\n",
      "12 -1.2151190833429515 3.838585212217243e-10\n",
      "12 -1.2120789578102913 3.843250215761204e-10\n",
      "12 -1.2090665829750513 3.862418147562447e-10\n",
      "12 -1.2060816202050337 3.885723119562199e-10\n",
      "12 -1.2031237367402847 3.9128373318977087e-10\n",
      "12 -1.2001926055830356 3.9609163151738135e-10\n",
      "12 -1.1972879053882548 3.973384042699847e-10\n",
      "12 -1.1944093203548807 4.005427488830172e-10\n",
      "12 -1.1915565401178272 4.0405634041270195e-10\n",
      "12 -1.1887292596408165 4.183969120886243e-10\n",
      "12 -1.1859271791101098 4.219023826282876e-10\n",
      "12 -1.1831500038292129 4.205983596202417e-10\n",
      "12 -1.1803974441145968 4.214683801788073e-10\n",
      "12 -1.177669215192523 4.339171660173734e-10\n",
      "12 -1.1749650370969944 4.357351172735468e-10\n",
      "12 -1.1722846345689133 4.9933376603422e-10\n",
      "12 -1.1696277369564785 5.527260163575731e-10\n",
      "12 -1.1669940781168822 6.795607345284385e-10\n",
      "12 -1.1643833963193355 4.552112651388114e-10\n",
      "12 -1.1617954341494774 4.740989599908458e-10\n",
      "12 -1.1592299384151943 6.282021996258592e-10\n",
      "12 -1.1566866600538903 4.870951983287102e-10\n",
      "12 -1.1541653540412395 5.500469180283578e-10\n",
      "12 -1.1516657793014506 6.874774112873813e-10\n",
      "12 -1.1491876986190626 9.80363168658559e-10\n",
      "12 -1.1467308785523072 5.591907046118044e-10\n",
      "12 -1.1418801048583131 6.680422020335449e-10\n",
      "12 -1.121045824217673 6.393030608650603e-10\n"
     ]
    },
    {
     "ename": "KeyboardInterrupt",
     "evalue": "",
     "output_type": "error",
     "traceback": [
      "\u001b[0;31m---------------------------------------------------------------------------\u001b[0m",
      "\u001b[0;31mKeyboardInterrupt\u001b[0m                         Traceback (most recent call last)",
      "\u001b[0;32m<ipython-input-32-5b28d88603cf>\u001b[0m in \u001b[0;36m<module>\u001b[0;34m\u001b[0m\n\u001b[1;32m     32\u001b[0m         \u001b[0mG\u001b[0m \u001b[0;34m=\u001b[0m \u001b[0mBuildG\u001b[0m\u001b[0;34m(\u001b[0m\u001b[0mN_tot\u001b[0m\u001b[0;34m,\u001b[0m\u001b[0mD\u001b[0m\u001b[0;34m,\u001b[0m\u001b[0mQ\u001b[0m\u001b[0;34m)\u001b[0m\u001b[0;34m\u001b[0m\u001b[0;34m\u001b[0m\u001b[0m\n\u001b[1;32m     33\u001b[0m         \u001b[0mFock\u001b[0m \u001b[0;34m=\u001b[0m \u001b[0mCalcFockMatrix\u001b[0m\u001b[0;34m(\u001b[0m\u001b[0mH\u001b[0m\u001b[0;34m,\u001b[0m\u001b[0mG\u001b[0m\u001b[0;34m,\u001b[0m\u001b[0mN_tot\u001b[0m\u001b[0;34m)\u001b[0m\u001b[0;34m\u001b[0m\u001b[0;34m\u001b[0m\u001b[0m\n\u001b[0;32m---> 34\u001b[0;31m         \u001b[0mEner\u001b[0m\u001b[0;34m,\u001b[0m \u001b[0mD_new\u001b[0m \u001b[0;34m=\u001b[0m \u001b[0mDiagFock\u001b[0m\u001b[0;34m(\u001b[0m\u001b[0mS\u001b[0m\u001b[0;34m,\u001b[0m\u001b[0mN_tot\u001b[0m\u001b[0;34m,\u001b[0m\u001b[0mFock\u001b[0m\u001b[0;34m,\u001b[0m\u001b[0mD\u001b[0m\u001b[0;34m,\u001b[0m\u001b[0mV\u001b[0m\u001b[0;34m,\u001b[0m\u001b[0mVd\u001b[0m\u001b[0;34m,\u001b[0m\u001b[0mj\u001b[0m\u001b[0;34m,\u001b[0m\u001b[0mDist\u001b[0m\u001b[0;34m,\u001b[0m\u001b[0mH\u001b[0m\u001b[0;34m)\u001b[0m\u001b[0;34m\u001b[0m\u001b[0;34m\u001b[0m\u001b[0m\n\u001b[0m\u001b[1;32m     35\u001b[0m         \u001b[0mDeltaD\u001b[0m\u001b[0;34m=\u001b[0m \u001b[0mnp\u001b[0m\u001b[0;34m.\u001b[0m\u001b[0msubtract\u001b[0m\u001b[0;34m(\u001b[0m\u001b[0mD_new\u001b[0m\u001b[0;34m,\u001b[0m\u001b[0mD\u001b[0m\u001b[0;34m)\u001b[0m\u001b[0;34m\u001b[0m\u001b[0;34m\u001b[0m\u001b[0m\n\u001b[1;32m     36\u001b[0m         \u001b[0merrD\u001b[0m  \u001b[0;34m=\u001b[0m \u001b[0mnp\u001b[0m\u001b[0;34m.\u001b[0m\u001b[0mlinalg\u001b[0m\u001b[0;34m.\u001b[0m\u001b[0mnorm\u001b[0m\u001b[0;34m(\u001b[0m\u001b[0mDeltaD\u001b[0m\u001b[0;34m,\u001b[0m\u001b[0mord\u001b[0m\u001b[0;34m=\u001b[0m\u001b[0;34m'fro'\u001b[0m\u001b[0;34m)\u001b[0m\u001b[0;34m\u001b[0m\u001b[0;34m\u001b[0m\u001b[0m\n",
      "\u001b[0;32m<ipython-input-4-ea5da5694578>\u001b[0m in \u001b[0;36mDiagFock\u001b[0;34m(S, N_tot, Fock, D, V, Vd, i_fact, Dist, H)\u001b[0m\n\u001b[1;32m      2\u001b[0m \u001b[0;34m\u001b[0m\u001b[0m\n\u001b[1;32m      3\u001b[0m     \u001b[0mtmp\u001b[0m \u001b[0;34m=\u001b[0m \u001b[0mnp\u001b[0m\u001b[0;34m.\u001b[0m\u001b[0mdot\u001b[0m\u001b[0;34m(\u001b[0m\u001b[0mFock\u001b[0m\u001b[0;34m,\u001b[0m\u001b[0mV\u001b[0m\u001b[0;34m)\u001b[0m\u001b[0;34m\u001b[0m\u001b[0;34m\u001b[0m\u001b[0m\n\u001b[0;32m----> 4\u001b[0;31m     \u001b[0mH_prime\u001b[0m \u001b[0;34m=\u001b[0m \u001b[0mnp\u001b[0m\u001b[0;34m.\u001b[0m\u001b[0mdot\u001b[0m\u001b[0;34m(\u001b[0m\u001b[0mVd\u001b[0m\u001b[0;34m,\u001b[0m\u001b[0mtmp\u001b[0m\u001b[0;34m)\u001b[0m\u001b[0;34m\u001b[0m\u001b[0;34m\u001b[0m\u001b[0m\n\u001b[0m\u001b[1;32m      5\u001b[0m \u001b[0;34m\u001b[0m\u001b[0m\n\u001b[1;32m      6\u001b[0m     \u001b[0mEE\u001b[0m\u001b[0;34m,\u001b[0m \u001b[0mC_prime\u001b[0m \u001b[0;34m=\u001b[0m \u001b[0mnp\u001b[0m\u001b[0;34m.\u001b[0m\u001b[0mlinalg\u001b[0m\u001b[0;34m.\u001b[0m\u001b[0meigh\u001b[0m\u001b[0;34m(\u001b[0m\u001b[0mH_prime\u001b[0m\u001b[0;34m)\u001b[0m\u001b[0;34m\u001b[0m\u001b[0;34m\u001b[0m\u001b[0m\n",
      "\u001b[0;32m<__array_function__ internals>\u001b[0m in \u001b[0;36mdot\u001b[0;34m(*args, **kwargs)\u001b[0m\n",
      "\u001b[0;31mKeyboardInterrupt\u001b[0m: "
     ]
    }
   ],
   "source": [
    "Alpha=np.array([13.00773E0,1.962079E0,0.444529E0,0.1219492E0,\n",
    "       13.00773E0,1.962079E0,0.444529E0,0.1219492E0],dtype=float)\n",
    "N_tot = 8\n",
    "\n",
    "C0=np.zeros(N_tot)\n",
    "for i in range(N_tot):\n",
    "    C0[i] = 1.0E0\n",
    "    \n",
    "\n",
    "Dist0 = 1.0E0 - 0.36E0\n",
    "incr = 0.02\n",
    "D_traj = []\n",
    "E_traj = []\n",
    "for i in range(400):\n",
    "    Dist = Dist0 + incr*i\n",
    "    S = calc_S(Alpha,N_tot,Dist)\n",
    "\n",
    "    D = BuildD(S,N_tot,C0)\n",
    "    D_new = copy.deepcopy(D)\n",
    "    H = BuildH(Alpha,N_tot,Dist,S,F)\n",
    "    small_S, U = np.linalg.eigh(S)\n",
    "    half_S = np.zeros((N_tot,N_tot))\n",
    "    for i in range(N_tot):\n",
    "        half_S[i,i] = 1.0E0/np.sqrt(np.abs(small_S[i]))\n",
    "    V = np.dot(U,half_S)\n",
    "    Vd = np.transpose(V)\n",
    "    Q = BuildQ(N_tot,Dist,S,F)\n",
    "    \n",
    "    Ener_old = 0.0E0\n",
    "    for j in range(400):\n",
    "        D = copy.deepcopy(D_new)\n",
    "        G = BuildG(N_tot,D,Q)\n",
    "        Fock = CalcFockMatrix(H,G,N_tot)\n",
    "        Ener, D_new = DiagFock(S,N_tot,Fock,D,V,Vd,j,Dist,H)\n",
    "        DeltaD= np.subtract(D_new,D)\n",
    "        errD  = np.linalg.norm(DeltaD,ord='fro')\n",
    "        # print (i+1, errD)\n",
    "        if np.abs(Ener-Ener_old)<1.0E-8 and errD<1.0E-9:\n",
    "            print(j+1, Ener, errD)\n",
    "            if_save= True\n",
    "            break\n",
    "        elif j==800-1:\n",
    "            print(j+1,\"No convergence!\")\n",
    "            if_save = False\n",
    "            \n",
    "        Ener_old = Ener\n",
    "    # print(\" %8.3f %12.6f\" % (Dist, Ener + 1/Dist))\n",
    "    if if_save:\n",
    "        D_traj.append(Dist)\n",
    "        E_traj.append(Ener+1/Dist)"
   ]
  },
  {
   "cell_type": "code",
   "execution_count": 7,
   "id": "worse-pearl",
   "metadata": {},
   "outputs": [
    {
     "data": {
      "image/png": "[encoded data removed]",
      "text/plain": [
       "<Figure size 432x288 with 1 Axes>"
      ]
     },
     "metadata": {
      "needs_background": "light"
     },
     "output_type": "display_data"
    }
   ],
   "source": [
    "plt.imshow(H)\n",
    "plt.show()"
   ]
  },
  {
   "cell_type": "code",
   "execution_count": 42,
   "id": "quick-washington",
   "metadata": {},
   "outputs": [
    {
     "data": {
      "image/png": "[encoded data removed]",
      "text/plain": [
       "<Figure size 432x288 with 1 Axes>"
      ]
     },
     "metadata": {
      "needs_background": "light"
     },
     "output_type": "display_data"
    }
   ],
   "source": [
    "plt.imshow(D_new)\n",
    "plt.show()"
   ]
  },
  {
   "cell_type": "code",
   "execution_count": 41,
   "id": "radio-spray",
   "metadata": {},
   "outputs": [
    {
     "data": {
      "image/png": "[encoded data removed]",
      "text/plain": [
       "<Figure size 432x288 with 1 Axes>"
      ]
     },
     "metadata": {
      "needs_background": "light"
     },
     "output_type": "display_data"
    }
   ],
   "source": [
    "plt.plot(D_traj,E_traj,'o-')\n",
    "plt.xlabel(r\"$r_{\\rm{H-H}}$/a.u.\",fontsize=24)\n",
    "plt.ylabel(r\"$E_{tot}(r)$/a.u.\",fontsize=24)\n",
    "plt.show()"
   ]
  },
  {
   "cell_type": "code",
   "execution_count": 51,
   "id": "effective-brooks",
   "metadata": {},
   "outputs": [
    {
     "name": "stdout",
     "output_type": "stream",
     "text": [
      "175\n",
      "-0.9016328393366209 4.08\n",
      "-0.8979776658339229 4.1\n",
      "-0.8783273776157313 4.12\n"
     ]
    }
   ],
   "source": [
    "print(len(a))\n",
    "print(a[172,1]+xx[172],D_traj[172])\n",
    "print(a[173,1]+xx[173],D_traj[173])\n",
    "print(a[174,1]+xx[174],D_traj[174])\n"
   ]
  },
  {
   "cell_type": "code",
   "execution_count": 5,
   "id": "surrounded-dubai",
   "metadata": {},
   "outputs": [
    {
     "name": "stdout",
     "output_type": "stream",
     "text": [
      "175 175\n"
     ]
    },
    {
     "data": {
      "image/png": "[encoded data removed]",
      "text/plain": [
       "<Figure size 432x288 with 1 Axes>"
      ]
     },
     "metadata": {
      "needs_background": "light"
     },
     "output_type": "display_data"
    }
   ],
   "source": [
    "a = np.genfromtxt('tmp.dat')\n",
    "xx = np.divide(1.0,D_traj)\n",
    "print(len(a),len(xx[:len(a)]))\n",
    "plt.plot(D_traj[:len(a)-1],a[:-1,1]+xx[:len(a)-1],'o-')\n",
    "plt.show()"
   ]
  },
  {
   "cell_type": "code",
   "execution_count": 43,
   "id": "wound-attempt",
   "metadata": {},
   "outputs": [
    {
     "data": {
      "image/png": "[encoded data removed]",
      "text/plain": [
       "<Figure size 432x288 with 1 Axes>"
      ]
     },
     "metadata": {
      "needs_background": "light"
     },
     "output_type": "display_data"
    }
   ],
   "source": [
    "plt.plot(D_traj[:len(a)-1],a[:-1,1]+xx[:len(a)-1],'o-',lw=3,markersize=10)\n",
    "plt.xlabel(r\"$r_{\\rm{H-H}}$/a.u.\",fontsize=24)\n",
    "plt.ylabel(r\"$E_{tot}(r)$/a.u.\",fontsize=24)\n",
    "figname='H2_HF_8g.png'\n",
    "plt.tight_layout()\n",
    "plt.savefig(figname,dpi=300,format='png')\n",
    "plt.show()"
   ]
  },
  {
   "cell_type": "code",
   "execution_count": 46,
   "id": "statistical-feelings",
   "metadata": {},
   "outputs": [
    {
     "data": {
      "image/png": "[encoded data removed]",
      "text/plain": [
       "<Figure size 432x288 with 1 Axes>"
      ]
     },
     "metadata": {
      "needs_background": "light"
     },
     "output_type": "display_data"
    }
   ],
   "source": [
    "plt.imshow(D_new,cmap='Blues')\n",
    "plt.show()"
   ]
  },
  {
   "cell_type": "code",
   "execution_count": 14,
   "id": "satisfactory-observation",
   "metadata": {},
   "outputs": [
    {
     "data": {
      "image/png": "[encoded data removed]",
      "text/plain": [
       "<Figure size 432x288 with 1 Axes>"
      ]
     },
     "metadata": {
      "needs_background": "light"
     },
     "output_type": "display_data"
    }
   ],
   "source": [
    "C = [0.0925615486, \\\n",
    "     0.165180118, \\\n",
    "     0.120122665, \\\n",
    "     0.0211545657,\\\n",
    "     0.0925615486, \\\n",
    "     0.165180118, \\\n",
    "     0.120122665, \\\n",
    "     0.0211545657]\n",
    "\n",
    "DDD = BuildD(S,N_tot,C)\n",
    "plt.imshow(DDD)\n",
    "plt.show()"
   ]
  },
  {
   "cell_type": "code",
   "execution_count": 3,
   "id": "sunset-soviet",
   "metadata": {},
   "outputs": [
    {
     "data": {
      "image/png": "[encoded data removed]",
      "text/plain": [
       "<Figure size 432x288 with 1 Axes>"
      ]
     },
     "metadata": {
      "needs_background": "light"
     },
     "output_type": "display_data"
    }
   ],
   "source": [
    "fpath = '/Users/yongleli/Course/Course2021/Comput_Phys_2021/Thijssen_code/ch4_b/ch4'\n",
    "a = np.genfromtxt(fpath+'/e_vs_dist.dat.bak')\n",
    "plt.plot(a[:,0],a[:,1],'o-')\n",
    "plt.xlabel(r\"$r_{\\rm{H-H}}$/a.u.\",fontsize=24)\n",
    "plt.ylabel(r\"$E_{tot}(r)$/a.u.\",fontsize=24)\n",
    "figname = 'H2.png'\n",
    "plt.tight_layout()\n",
    "plt.savefig(figname,format='png',dpi=400)\n",
    "plt.show()"
   ]
  },
  {
   "cell_type": "code",
   "execution_count": 6,
   "id": "individual-puppy",
   "metadata": {},
   "outputs": [
    {
     "name": "stdout",
     "output_type": "stream",
     "text": [
      "-2.355516496138058\n"
     ]
    }
   ],
   "source": [
    "print(np.min(a[:,1]))"
   ]
  },
  {
   "cell_type": "code",
   "execution_count": 4,
   "id": "interesting-swimming",
   "metadata": {},
   "outputs": [],
   "source": [
    "Dist0 = 1.0E0 - 0.36E0\n",
    "incr = 0.02\n",
    "D_traj = []\n",
    "E_traj = []\n",
    "for i in range(175):\n",
    "    Dist = Dist0 + incr*i\n",
    "    D_traj.append(Dist)"
   ]
  },
  {
   "cell_type": "code",
   "execution_count": 2,
   "id": "7744bf7f",
   "metadata": {},
   "outputs": [
    {
     "name": "stdout",
     "output_type": "stream",
     "text": [
      "Requirement already satisfied: scipy in /Users/yongleli/opt/anaconda3/lib/python3.9/site-packages (1.7.1)\n",
      "Collecting scipy\n",
      "  Downloading scipy-1.8.0-cp39-cp39-macosx_12_0_universal2.macosx_10_9_x86_64.whl (55.6 MB)\n",
      "\u001b[K     |████████████████████████████████| 55.6 MB 59.6 MB/s eta 0:00:01\n",
      "\u001b[?25hRequirement already satisfied: numpy<1.25.0,>=1.17.3 in /Users/yongleli/opt/anaconda3/lib/python3.9/site-packages (from scipy) (1.20.3)\n",
      "Installing collected packages: scipy\n",
      "  Attempting uninstall: scipy\n",
      "    Found existing installation: scipy 1.7.1\n",
      "    Uninstalling scipy-1.7.1:\n",
      "      Successfully uninstalled scipy-1.7.1\n",
      "Successfully installed scipy-1.8.0\n",
      "Note: you may need to restart the kernel to use updated packages.\n"
     ]
    }
   ],
   "source": [
    "pip install scipy --upgrade"
   ]
  },
  {
   "cell_type": "code",
   "execution_count": 3,
   "id": "spare-investigation",
   "metadata": {},
   "outputs": [],
   "source": [
    "# Morse potential fitting\n",
    "# from scipy.optimize import curve_fit\n",
    "from scipy import optimize as op"
   ]
  },
  {
   "cell_type": "code",
   "execution_count": 16,
   "id": "atlantic-jersey",
   "metadata": {},
   "outputs": [
    {
     "name": "stdout",
     "output_type": "stream",
     "text": [
      "[ 0.26321812  0.92899118  1.43090488 -0.86948876]\n"
     ]
    }
   ],
   "source": [
    "\n",
    "\n",
    "#\n",
    "x_data2 = D_traj[:len(a)-1]\n",
    "y_data2 = a[:-1,1]+xx[:len(a)-1]\n",
    "tstart = [0.5, 1, 1.5, -0.5]\n",
    "t=np.linspace(x_data2[0],x_data2[-1],1000)\n",
    "def morse(x, q, m, u , v):\n",
    "    return (q * (np.exp(-2*m*(x-u))-2*np.exp(-m*(x-u))) + v)\n",
    "\n",
    "popt, pcov = op.curve_fit(morse, x_data2, y_data2, p0 = tstart,  maxfev=40000000)\n",
    "print(popt) \n",
    "\n",
    "\n",
    "yfit = morse(t,popt[0], popt[1], popt[2], popt[3])\n",
    "\n",
    "\n",
    "\n"
   ]
  },
  {
   "cell_type": "code",
   "execution_count": 18,
   "id": "41123c9d",
   "metadata": {},
   "outputs": [
    {
     "name": "stdout",
     "output_type": "stream",
     "text": [
      "[[ 6.71686011e-06 -1.76868752e-05  6.84865572e-06  6.08917163e-06]\n",
      " [-1.76868752e-05  8.36923232e-05 -3.60632908e-05 -2.07202187e-05]\n",
      " [ 6.84865572e-06 -3.60632908e-05  1.94998055e-05  8.37712816e-06]\n",
      " [ 6.08917163e-06 -2.07202187e-05  8.37712816e-06  6.36229719e-06]]\n"
     ]
    }
   ],
   "source": [
    "print(pcov)"
   ]
  },
  {
   "cell_type": "code",
   "execution_count": 17,
   "id": "4271ccf2",
   "metadata": {},
   "outputs": [
    {
     "data": {
      "image/png": "[encoded data removed]",
      "text/plain": [
       "<Figure size 432x288 with 1 Axes>"
      ]
     },
     "metadata": {
      "needs_background": "light"
     },
     "output_type": "display_data"
    }
   ],
   "source": [
    "plt.plot(x_data2, y_data2,\"ro\",alpha=0.4,label=\"ab initio\")\n",
    "plt.plot(t, yfit,lw=3,label=\"Morse fitted\")\n",
    "plt.xlabel(r\"$r_{\\rm{H-H}}$/a.u.\",fontsize=24)\n",
    "plt.ylabel(r\"$E(r)$/a.u.\",fontsize=24)\n",
    "plt.legend(loc='best')\n",
    "plt.show()"
   ]
  },
  {
   "cell_type": "code",
   "execution_count": null,
   "id": "positive-assault",
   "metadata": {},
   "outputs": [],
   "source": []
  }
 ],
 "metadata": {
  "kernelspec": {
   "display_name": "Python 3 (ipykernel)",
   "language": "python",
   "name": "python3"
  },
  "language_info": {
   "codemirror_mode": {
    "name": "ipython",
    "version": 3
   },
   "file_extension": ".py",
   "mimetype": "text/x-python",
   "name": "python",
   "nbconvert_exporter": "python",
   "pygments_lexer": "ipython3",
   "version": "3.9.7"
  }
 },
 "nbformat": 4,
 "nbformat_minor": 5
}
